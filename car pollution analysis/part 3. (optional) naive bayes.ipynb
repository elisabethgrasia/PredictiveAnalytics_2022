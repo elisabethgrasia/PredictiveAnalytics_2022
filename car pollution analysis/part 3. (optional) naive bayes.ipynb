{
 "cells": [
  {
   "cell_type": "code",
   "execution_count": 2,
   "id": "1f17c0c1",
   "metadata": {},
   "outputs": [],
   "source": [
    "import numpy as np\n",
    "import pandas as pd\n",
    "import matplotlib.pyplot as plt"
   ]
  },
  {
   "cell_type": "code",
   "execution_count": 3,
   "id": "5a713794",
   "metadata": {},
   "outputs": [],
   "source": [
    "df = pd.read_csv('Euro_6_latest.csv', delimiter = ',', encoding='ISO-8859-1')"
   ]
  },
  {
   "cell_type": "markdown",
   "id": "67c1c467",
   "metadata": {},
   "source": [
    "## Data Preprocessing is done as in the report"
   ]
  },
  {
   "cell_type": "code",
   "execution_count": 4,
   "id": "7c74e212",
   "metadata": {},
   "outputs": [],
   "source": [
    "# Remove a column called Unnamed\n",
    "df = df.loc[:, ~df.columns.str.contains('^Unnamed')]\n",
    "\n",
    "# Remove features with more than 70% missing values\n",
    "limitPer = len(df) * .70\n",
    "df = df.dropna(thresh=limitPer, axis=1).copy()# drop unnecessary columns\n",
    "df = df.drop(['Transmission','Euro Standard','Testing Scheme','Date of change','WLTP Imperial Low',\n",
    "               'WLTP Imperial Medium','WLTP Imperial High','WLTP Imperial Extra High',\n",
    "               'WLTP Imperial Combined','WLTP Imperial Combined (Weighted)' ,\n",
    "                'Diesel VED Supplement','Emissions NOx [mg/km]',\n",
    "               'THC Emissions [mg/km]','Noise Level dB(A)'], axis=1).copy()"
   ]
  },
  {
   "cell_type": "code",
   "execution_count": 5,
   "id": "2e7ab67c",
   "metadata": {},
   "outputs": [],
   "source": [
    "AUTOMATIC = \"Automatic\"\n",
    "MANUAL = \"Manual\"\n",
    "ELECTRIC = \"Electric\"\n",
    "df.loc[df['Manual or Automatic'].str.startswith('A'),'Transmission'] = AUTOMATIC\n",
    "df.loc[df['Manual or Automatic'].str.startswith('M'),'Transmission'] = MANUAL\n",
    "df.loc[df['Manual or Automatic'].str.startswith('E'),'Transmission'] = ELECTRIC"
   ]
  },
  {
   "cell_type": "code",
   "execution_count": 6,
   "id": "04cc19d4",
   "metadata": {},
   "outputs": [],
   "source": [
    "petrol = ['Petrol','Petrol / LPG']\n",
    "diesel = ['Diesel']\n",
    "electric = ['Electricity']\n",
    "hybrid = ['Electricity / Petrol','Petrol Electric','Diesel Electric','Electricity / Diesel']\n",
    "#df = df.copy()\n",
    "df.loc[df['Fuel Type'].isin(petrol), 'Fuel'] = 'Petrol'\n",
    "df.loc[df['Fuel Type'].isin(diesel), 'Fuel'] = 'Diesel'\n",
    "df.loc[df['Fuel Type'].isin(electric), 'Fuel'] = 'Electric'\n",
    "df.loc[df['Fuel Type'].isin(hybrid), 'Fuel'] = 'Hybrid'"
   ]
  },
  {
   "cell_type": "code",
   "execution_count": 7,
   "id": "a1dd12c8",
   "metadata": {},
   "outputs": [],
   "source": [
    "ice = ['Internal Combustion Engine (ICE)']\n",
    "hybrid = ['Plug-in Hybrid Electric Vehicle (PHEV)',\n",
    "          'Mild Hybrid Electric Vehicle (MHEV)',\n",
    "          'Hybrid Electric Vehicle (HEV)','Micro Hybrid']\n",
    "ev = ['Battery Electric Vehicle (BEV) / Pure Electric Vehicle / Electric Vehicle (EV)']\n",
    "\n",
    "df.loc[df['Powertrain'].isin(ice), 'PT'] = 'ICE'\n",
    "df.loc[df['Powertrain'].isin(ev), 'PT'] = 'EV'\n",
    "df.loc[df['Powertrain'].isin(hybrid), 'PT'] = 'Hybrid'"
   ]
  },
  {
   "cell_type": "code",
   "execution_count": 8,
   "id": "a9ace2c8",
   "metadata": {},
   "outputs": [],
   "source": [
    "# Drop the old columns\n",
    "df = df.drop(['Powertrain','Fuel Type','Manual or Automatic'], axis=1)\n",
    "df.rename(columns={'PT':'Powertrain'}, inplace=True)"
   ]
  },
  {
   "cell_type": "code",
   "execution_count": 9,
   "id": "a5f2d82b",
   "metadata": {},
   "outputs": [],
   "source": [
    "df['Engine Capacity'] = df['Engine Capacity'].fillna(0)"
   ]
  },
  {
   "cell_type": "code",
   "execution_count": 10,
   "id": "fc10e26d",
   "metadata": {},
   "outputs": [],
   "source": [
    "df['Engine Power (PS)'] = df.groupby(['Manufacturer','Model'], sort=False) \\\n",
    "    ['Engine Power (PS)'].apply(lambda x: x.ffill().bfill())\n",
    "\n",
    "# Same with Engine Power (Kw)\n",
    "df['Engine Power (Kw)'] = df.groupby(['Manufacturer','Model'], sort=False) \\\n",
    "    ['Engine Power (Kw)'].apply(lambda x: x.ffill().bfill())"
   ]
  },
  {
   "cell_type": "code",
   "execution_count": 11,
   "id": "cc583d82",
   "metadata": {},
   "outputs": [],
   "source": [
    "df = df.drop(['WLTP Metric Combined (Weighted)','WLTP CO2 Weighted'], axis=1).copy()"
   ]
  },
  {
   "cell_type": "code",
   "execution_count": 12,
   "id": "3a39ed6a",
   "metadata": {},
   "outputs": [
    {
     "data": {
      "text/plain": [
       "Manufacturer                0\n",
       "Model                       0\n",
       "Description                 0\n",
       "Engine Capacity             0\n",
       "Engine Power (PS)         177\n",
       "Engine Power (Kw)          89\n",
       "WLTP Metric Low             0\n",
       "WLTP Metric Medium          0\n",
       "WLTP Metric High            0\n",
       "WLTP Metric Extra High      0\n",
       "WLTP Metric Combined        0\n",
       "WLTP CO2                    0\n",
       "Emissions CO [mg/km]        0\n",
       "Transmission                0\n",
       "Fuel                        0\n",
       "Powertrain                  0\n",
       "dtype: int64"
      ]
     },
     "execution_count": 12,
     "metadata": {},
     "output_type": "execute_result"
    }
   ],
   "source": [
    "df['WLTP Metric Combined'].fillna((df['WLTP Metric Combined'].mean()), inplace=True)\n",
    "df['WLTP Metric Low'].fillna((df['WLTP Metric Low'].mean()), inplace=True)\n",
    "df['WLTP Metric Medium'].fillna((df['WLTP Metric Medium'].mean()), inplace=True)\n",
    "df['WLTP Metric High'].fillna((df['WLTP Metric High'].mean()), inplace=True)\n",
    "df['WLTP Metric Extra High'].fillna((df['WLTP Metric Extra High'].mean()), inplace=True)\n",
    "df['WLTP CO2'].fillna((df['WLTP CO2'].mean()), inplace=True)\n",
    "df['Emissions CO [mg/km]'].fillna((df['Emissions CO [mg/km]'].mean()), inplace=True)\n",
    "df.isnull().sum(axis = 0)"
   ]
  },
  {
   "cell_type": "code",
   "execution_count": 13,
   "id": "42d439a6",
   "metadata": {},
   "outputs": [],
   "source": [
    "df = df.dropna().copy()"
   ]
  },
  {
   "cell_type": "markdown",
   "id": "3fd575d5",
   "metadata": {},
   "source": [
    "### Additional simple statistical analysis "
   ]
  },
  {
   "cell_type": "code",
   "execution_count": 14,
   "id": "d4f9f9e1",
   "metadata": {},
   "outputs": [
    {
     "data": {
      "text/html": [
       "<div>\n",
       "<style scoped>\n",
       "    .dataframe tbody tr th:only-of-type {\n",
       "        vertical-align: middle;\n",
       "    }\n",
       "\n",
       "    .dataframe tbody tr th {\n",
       "        vertical-align: top;\n",
       "    }\n",
       "\n",
       "    .dataframe thead th {\n",
       "        text-align: right;\n",
       "    }\n",
       "</style>\n",
       "<table border=\"1\" class=\"dataframe\">\n",
       "  <thead>\n",
       "    <tr style=\"text-align: right;\">\n",
       "      <th></th>\n",
       "      <th>Engine Capacity</th>\n",
       "      <th>Engine Power (PS)</th>\n",
       "      <th>Engine Power (Kw)</th>\n",
       "      <th>WLTP Metric Low</th>\n",
       "      <th>WLTP Metric Medium</th>\n",
       "      <th>WLTP Metric High</th>\n",
       "      <th>WLTP Metric Extra High</th>\n",
       "      <th>WLTP Metric Combined</th>\n",
       "      <th>WLTP CO2</th>\n",
       "      <th>Emissions CO [mg/km]</th>\n",
       "    </tr>\n",
       "  </thead>\n",
       "  <tbody>\n",
       "    <tr>\n",
       "      <th>Engine Capacity</th>\n",
       "      <td>1.000000</td>\n",
       "      <td>0.774230</td>\n",
       "      <td>0.757315</td>\n",
       "      <td>0.646861</td>\n",
       "      <td>0.399634</td>\n",
       "      <td>0.315369</td>\n",
       "      <td>0.379813</td>\n",
       "      <td>0.413805</td>\n",
       "      <td>0.742957</td>\n",
       "      <td>-0.109571</td>\n",
       "    </tr>\n",
       "    <tr>\n",
       "      <th>Engine Power (PS)</th>\n",
       "      <td>0.774230</td>\n",
       "      <td>1.000000</td>\n",
       "      <td>0.960986</td>\n",
       "      <td>0.575433</td>\n",
       "      <td>0.339775</td>\n",
       "      <td>0.251194</td>\n",
       "      <td>0.272663</td>\n",
       "      <td>0.335780</td>\n",
       "      <td>0.565200</td>\n",
       "      <td>0.029086</td>\n",
       "    </tr>\n",
       "    <tr>\n",
       "      <th>Engine Power (Kw)</th>\n",
       "      <td>0.757315</td>\n",
       "      <td>0.960986</td>\n",
       "      <td>1.000000</td>\n",
       "      <td>0.578785</td>\n",
       "      <td>0.335136</td>\n",
       "      <td>0.243554</td>\n",
       "      <td>0.257499</td>\n",
       "      <td>0.326848</td>\n",
       "      <td>0.556512</td>\n",
       "      <td>0.030707</td>\n",
       "    </tr>\n",
       "    <tr>\n",
       "      <th>WLTP Metric Low</th>\n",
       "      <td>0.646861</td>\n",
       "      <td>0.575433</td>\n",
       "      <td>0.578785</td>\n",
       "      <td>1.000000</td>\n",
       "      <td>0.825314</td>\n",
       "      <td>0.829728</td>\n",
       "      <td>0.850635</td>\n",
       "      <td>0.896543</td>\n",
       "      <td>0.775881</td>\n",
       "      <td>0.156310</td>\n",
       "    </tr>\n",
       "    <tr>\n",
       "      <th>WLTP Metric Medium</th>\n",
       "      <td>0.399634</td>\n",
       "      <td>0.339775</td>\n",
       "      <td>0.335136</td>\n",
       "      <td>0.825314</td>\n",
       "      <td>1.000000</td>\n",
       "      <td>0.878931</td>\n",
       "      <td>0.865129</td>\n",
       "      <td>0.888418</td>\n",
       "      <td>0.511176</td>\n",
       "      <td>0.126220</td>\n",
       "    </tr>\n",
       "    <tr>\n",
       "      <th>WLTP Metric High</th>\n",
       "      <td>0.315369</td>\n",
       "      <td>0.251194</td>\n",
       "      <td>0.243554</td>\n",
       "      <td>0.829728</td>\n",
       "      <td>0.878931</td>\n",
       "      <td>1.000000</td>\n",
       "      <td>0.974594</td>\n",
       "      <td>0.984246</td>\n",
       "      <td>0.441096</td>\n",
       "      <td>0.112127</td>\n",
       "    </tr>\n",
       "    <tr>\n",
       "      <th>WLTP Metric Extra High</th>\n",
       "      <td>0.379813</td>\n",
       "      <td>0.272663</td>\n",
       "      <td>0.257499</td>\n",
       "      <td>0.850635</td>\n",
       "      <td>0.865129</td>\n",
       "      <td>0.974594</td>\n",
       "      <td>1.000000</td>\n",
       "      <td>0.981181</td>\n",
       "      <td>0.557144</td>\n",
       "      <td>0.118176</td>\n",
       "    </tr>\n",
       "    <tr>\n",
       "      <th>WLTP Metric Combined</th>\n",
       "      <td>0.413805</td>\n",
       "      <td>0.335780</td>\n",
       "      <td>0.326848</td>\n",
       "      <td>0.896543</td>\n",
       "      <td>0.888418</td>\n",
       "      <td>0.984246</td>\n",
       "      <td>0.981181</td>\n",
       "      <td>1.000000</td>\n",
       "      <td>0.563379</td>\n",
       "      <td>0.127395</td>\n",
       "    </tr>\n",
       "    <tr>\n",
       "      <th>WLTP CO2</th>\n",
       "      <td>0.742957</td>\n",
       "      <td>0.565200</td>\n",
       "      <td>0.556512</td>\n",
       "      <td>0.775881</td>\n",
       "      <td>0.511176</td>\n",
       "      <td>0.441096</td>\n",
       "      <td>0.557144</td>\n",
       "      <td>0.563379</td>\n",
       "      <td>1.000000</td>\n",
       "      <td>0.061285</td>\n",
       "    </tr>\n",
       "    <tr>\n",
       "      <th>Emissions CO [mg/km]</th>\n",
       "      <td>-0.109571</td>\n",
       "      <td>0.029086</td>\n",
       "      <td>0.030707</td>\n",
       "      <td>0.156310</td>\n",
       "      <td>0.126220</td>\n",
       "      <td>0.112127</td>\n",
       "      <td>0.118176</td>\n",
       "      <td>0.127395</td>\n",
       "      <td>0.061285</td>\n",
       "      <td>1.000000</td>\n",
       "    </tr>\n",
       "  </tbody>\n",
       "</table>\n",
       "</div>"
      ],
      "text/plain": [
       "                        Engine Capacity  Engine Power (PS)  Engine Power (Kw)  \\\n",
       "Engine Capacity                1.000000           0.774230           0.757315   \n",
       "Engine Power (PS)              0.774230           1.000000           0.960986   \n",
       "Engine Power (Kw)              0.757315           0.960986           1.000000   \n",
       "WLTP Metric Low                0.646861           0.575433           0.578785   \n",
       "WLTP Metric Medium             0.399634           0.339775           0.335136   \n",
       "WLTP Metric High               0.315369           0.251194           0.243554   \n",
       "WLTP Metric Extra High         0.379813           0.272663           0.257499   \n",
       "WLTP Metric Combined           0.413805           0.335780           0.326848   \n",
       "WLTP CO2                       0.742957           0.565200           0.556512   \n",
       "Emissions CO [mg/km]          -0.109571           0.029086           0.030707   \n",
       "\n",
       "                        WLTP Metric Low  WLTP Metric Medium  WLTP Metric High  \\\n",
       "Engine Capacity                0.646861            0.399634          0.315369   \n",
       "Engine Power (PS)              0.575433            0.339775          0.251194   \n",
       "Engine Power (Kw)              0.578785            0.335136          0.243554   \n",
       "WLTP Metric Low                1.000000            0.825314          0.829728   \n",
       "WLTP Metric Medium             0.825314            1.000000          0.878931   \n",
       "WLTP Metric High               0.829728            0.878931          1.000000   \n",
       "WLTP Metric Extra High         0.850635            0.865129          0.974594   \n",
       "WLTP Metric Combined           0.896543            0.888418          0.984246   \n",
       "WLTP CO2                       0.775881            0.511176          0.441096   \n",
       "Emissions CO [mg/km]           0.156310            0.126220          0.112127   \n",
       "\n",
       "                        WLTP Metric Extra High  WLTP Metric Combined  \\\n",
       "Engine Capacity                       0.379813              0.413805   \n",
       "Engine Power (PS)                     0.272663              0.335780   \n",
       "Engine Power (Kw)                     0.257499              0.326848   \n",
       "WLTP Metric Low                       0.850635              0.896543   \n",
       "WLTP Metric Medium                    0.865129              0.888418   \n",
       "WLTP Metric High                      0.974594              0.984246   \n",
       "WLTP Metric Extra High                1.000000              0.981181   \n",
       "WLTP Metric Combined                  0.981181              1.000000   \n",
       "WLTP CO2                              0.557144              0.563379   \n",
       "Emissions CO [mg/km]                  0.118176              0.127395   \n",
       "\n",
       "                        WLTP CO2  Emissions CO [mg/km]  \n",
       "Engine Capacity         0.742957             -0.109571  \n",
       "Engine Power (PS)       0.565200              0.029086  \n",
       "Engine Power (Kw)       0.556512              0.030707  \n",
       "WLTP Metric Low         0.775881              0.156310  \n",
       "WLTP Metric Medium      0.511176              0.126220  \n",
       "WLTP Metric High        0.441096              0.112127  \n",
       "WLTP Metric Extra High  0.557144              0.118176  \n",
       "WLTP Metric Combined    0.563379              0.127395  \n",
       "WLTP CO2                1.000000              0.061285  \n",
       "Emissions CO [mg/km]    0.061285              1.000000  "
      ]
     },
     "execution_count": 14,
     "metadata": {},
     "output_type": "execute_result"
    }
   ],
   "source": [
    "df.corr()"
   ]
  },
  {
   "cell_type": "markdown",
   "id": "56620a52",
   "metadata": {},
   "source": [
    "By checking the correlation, it shows that emissions CO does not have high correlation into other data. This fullfil the Naive Bayes assumption that the attributes are independent from each other. Now, we are going to check the emissions CO data's value because we would like to it from continuous into discrete number by classified it."
   ]
  },
  {
   "cell_type": "code",
   "execution_count": 15,
   "id": "1165e57b",
   "metadata": {},
   "outputs": [
    {
     "data": {
      "text/html": [
       "<div>\n",
       "<style scoped>\n",
       "    .dataframe tbody tr th:only-of-type {\n",
       "        vertical-align: middle;\n",
       "    }\n",
       "\n",
       "    .dataframe tbody tr th {\n",
       "        vertical-align: top;\n",
       "    }\n",
       "\n",
       "    .dataframe thead th {\n",
       "        text-align: right;\n",
       "    }\n",
       "</style>\n",
       "<table border=\"1\" class=\"dataframe\">\n",
       "  <thead>\n",
       "    <tr style=\"text-align: right;\">\n",
       "      <th></th>\n",
       "      <th>mean</th>\n",
       "      <th>std</th>\n",
       "    </tr>\n",
       "  </thead>\n",
       "  <tbody>\n",
       "    <tr>\n",
       "      <th>Engine Capacity</th>\n",
       "      <td>1744.287665</td>\n",
       "      <td>894.872988</td>\n",
       "    </tr>\n",
       "    <tr>\n",
       "      <th>Engine Power (PS)</th>\n",
       "      <td>175.893217</td>\n",
       "      <td>109.439872</td>\n",
       "    </tr>\n",
       "    <tr>\n",
       "      <th>Engine Power (Kw)</th>\n",
       "      <td>131.782628</td>\n",
       "      <td>83.890608</td>\n",
       "    </tr>\n",
       "    <tr>\n",
       "      <th>WLTP Metric Low</th>\n",
       "      <td>8.307146</td>\n",
       "      <td>4.909390</td>\n",
       "    </tr>\n",
       "    <tr>\n",
       "      <th>WLTP Metric Medium</th>\n",
       "      <td>6.399704</td>\n",
       "      <td>4.837777</td>\n",
       "    </tr>\n",
       "    <tr>\n",
       "      <th>WLTP Metric High</th>\n",
       "      <td>5.861178</td>\n",
       "      <td>4.419764</td>\n",
       "    </tr>\n",
       "    <tr>\n",
       "      <th>WLTP Metric Extra High</th>\n",
       "      <td>7.056735</td>\n",
       "      <td>3.763594</td>\n",
       "    </tr>\n",
       "    <tr>\n",
       "      <th>WLTP Metric Combined</th>\n",
       "      <td>6.737001</td>\n",
       "      <td>4.058259</td>\n",
       "    </tr>\n",
       "    <tr>\n",
       "      <th>WLTP CO2</th>\n",
       "      <td>151.679009</td>\n",
       "      <td>57.911991</td>\n",
       "    </tr>\n",
       "    <tr>\n",
       "      <th>Emissions CO [mg/km]</th>\n",
       "      <td>232.946411</td>\n",
       "      <td>197.198821</td>\n",
       "    </tr>\n",
       "  </tbody>\n",
       "</table>\n",
       "</div>"
      ],
      "text/plain": [
       "                               mean         std\n",
       "Engine Capacity         1744.287665  894.872988\n",
       "Engine Power (PS)        175.893217  109.439872\n",
       "Engine Power (Kw)        131.782628   83.890608\n",
       "WLTP Metric Low            8.307146    4.909390\n",
       "WLTP Metric Medium         6.399704    4.837777\n",
       "WLTP Metric High           5.861178    4.419764\n",
       "WLTP Metric Extra High     7.056735    3.763594\n",
       "WLTP Metric Combined       6.737001    4.058259\n",
       "WLTP CO2                 151.679009   57.911991\n",
       "Emissions CO [mg/km]     232.946411  197.198821"
      ]
     },
     "execution_count": 15,
     "metadata": {},
     "output_type": "execute_result"
    }
   ],
   "source": [
    "df.describe().transpose()[['mean', 'std']]"
   ]
  },
  {
   "cell_type": "code",
   "execution_count": 16,
   "id": "6c078807",
   "metadata": {},
   "outputs": [
    {
     "data": {
      "text/html": [
       "<div>\n",
       "<style scoped>\n",
       "    .dataframe tbody tr th:only-of-type {\n",
       "        vertical-align: middle;\n",
       "    }\n",
       "\n",
       "    .dataframe tbody tr th {\n",
       "        vertical-align: top;\n",
       "    }\n",
       "\n",
       "    .dataframe thead th {\n",
       "        text-align: right;\n",
       "    }\n",
       "</style>\n",
       "<table border=\"1\" class=\"dataframe\">\n",
       "  <thead>\n",
       "    <tr style=\"text-align: right;\">\n",
       "      <th></th>\n",
       "      <th>Manufacturer</th>\n",
       "      <th>Model</th>\n",
       "      <th>Description</th>\n",
       "      <th>Engine Capacity</th>\n",
       "      <th>Engine Power (PS)</th>\n",
       "      <th>Engine Power (Kw)</th>\n",
       "      <th>WLTP Metric Low</th>\n",
       "      <th>WLTP Metric Medium</th>\n",
       "      <th>WLTP Metric High</th>\n",
       "      <th>WLTP Metric Extra High</th>\n",
       "      <th>WLTP Metric Combined</th>\n",
       "      <th>WLTP CO2</th>\n",
       "      <th>Emissions CO [mg/km]</th>\n",
       "      <th>Transmission</th>\n",
       "      <th>Fuel</th>\n",
       "      <th>Powertrain</th>\n",
       "    </tr>\n",
       "  </thead>\n",
       "  <tbody>\n",
       "    <tr>\n",
       "      <th>3332</th>\n",
       "      <td>RENAULT</td>\n",
       "      <td>Clio</td>\n",
       "      <td>Iconic SCe 75</td>\n",
       "      <td>999.0</td>\n",
       "      <td>72.0</td>\n",
       "      <td>53.0</td>\n",
       "      <td>6.7</td>\n",
       "      <td>5.0</td>\n",
       "      <td>4.7</td>\n",
       "      <td>5.8</td>\n",
       "      <td>5.4</td>\n",
       "      <td>121.0</td>\n",
       "      <td>927.0</td>\n",
       "      <td>Manual</td>\n",
       "      <td>Petrol</td>\n",
       "      <td>ICE</td>\n",
       "    </tr>\n",
       "    <tr>\n",
       "      <th>3333</th>\n",
       "      <td>RENAULT</td>\n",
       "      <td>Clio</td>\n",
       "      <td>Iconic SCe 75</td>\n",
       "      <td>999.0</td>\n",
       "      <td>72.0</td>\n",
       "      <td>53.0</td>\n",
       "      <td>6.7</td>\n",
       "      <td>5.1</td>\n",
       "      <td>4.8</td>\n",
       "      <td>5.8</td>\n",
       "      <td>5.4</td>\n",
       "      <td>122.0</td>\n",
       "      <td>927.0</td>\n",
       "      <td>Manual</td>\n",
       "      <td>Petrol</td>\n",
       "      <td>ICE</td>\n",
       "    </tr>\n",
       "    <tr>\n",
       "      <th>3334</th>\n",
       "      <td>RENAULT</td>\n",
       "      <td>Clio</td>\n",
       "      <td>Iconic SCe 75  with BOSE</td>\n",
       "      <td>999.0</td>\n",
       "      <td>72.0</td>\n",
       "      <td>53.0</td>\n",
       "      <td>6.7</td>\n",
       "      <td>5.0</td>\n",
       "      <td>4.7</td>\n",
       "      <td>5.8</td>\n",
       "      <td>5.4</td>\n",
       "      <td>121.0</td>\n",
       "      <td>927.0</td>\n",
       "      <td>Manual</td>\n",
       "      <td>Petrol</td>\n",
       "      <td>ICE</td>\n",
       "    </tr>\n",
       "    <tr>\n",
       "      <th>3335</th>\n",
       "      <td>RENAULT</td>\n",
       "      <td>Clio</td>\n",
       "      <td>Iconic SCe 75  with BOSE</td>\n",
       "      <td>999.0</td>\n",
       "      <td>72.0</td>\n",
       "      <td>53.0</td>\n",
       "      <td>6.7</td>\n",
       "      <td>5.1</td>\n",
       "      <td>4.8</td>\n",
       "      <td>5.8</td>\n",
       "      <td>5.5</td>\n",
       "      <td>122.0</td>\n",
       "      <td>927.0</td>\n",
       "      <td>Manual</td>\n",
       "      <td>Petrol</td>\n",
       "      <td>ICE</td>\n",
       "    </tr>\n",
       "    <tr>\n",
       "      <th>3382</th>\n",
       "      <td>RENAULT</td>\n",
       "      <td>Clio</td>\n",
       "      <td>Play SCe 75</td>\n",
       "      <td>999.0</td>\n",
       "      <td>72.0</td>\n",
       "      <td>53.0</td>\n",
       "      <td>6.7</td>\n",
       "      <td>5.0</td>\n",
       "      <td>4.7</td>\n",
       "      <td>5.8</td>\n",
       "      <td>5.4</td>\n",
       "      <td>121.0</td>\n",
       "      <td>927.0</td>\n",
       "      <td>Manual</td>\n",
       "      <td>Petrol</td>\n",
       "      <td>ICE</td>\n",
       "    </tr>\n",
       "    <tr>\n",
       "      <th>3383</th>\n",
       "      <td>RENAULT</td>\n",
       "      <td>Clio</td>\n",
       "      <td>Play SCe 75</td>\n",
       "      <td>999.0</td>\n",
       "      <td>72.0</td>\n",
       "      <td>53.0</td>\n",
       "      <td>6.7</td>\n",
       "      <td>5.1</td>\n",
       "      <td>4.7</td>\n",
       "      <td>5.8</td>\n",
       "      <td>5.4</td>\n",
       "      <td>122.0</td>\n",
       "      <td>927.0</td>\n",
       "      <td>Manual</td>\n",
       "      <td>Petrol</td>\n",
       "      <td>ICE</td>\n",
       "    </tr>\n",
       "  </tbody>\n",
       "</table>\n",
       "</div>"
      ],
      "text/plain": [
       "     Manufacturer Model               Description  Engine Capacity  \\\n",
       "3332      RENAULT  Clio             Iconic SCe 75            999.0   \n",
       "3333      RENAULT  Clio             Iconic SCe 75            999.0   \n",
       "3334      RENAULT  Clio  Iconic SCe 75  with BOSE            999.0   \n",
       "3335      RENAULT  Clio  Iconic SCe 75  with BOSE            999.0   \n",
       "3382      RENAULT  Clio               Play SCe 75            999.0   \n",
       "3383      RENAULT  Clio               Play SCe 75            999.0   \n",
       "\n",
       "      Engine Power (PS)  Engine Power (Kw)  WLTP Metric Low  \\\n",
       "3332               72.0               53.0              6.7   \n",
       "3333               72.0               53.0              6.7   \n",
       "3334               72.0               53.0              6.7   \n",
       "3335               72.0               53.0              6.7   \n",
       "3382               72.0               53.0              6.7   \n",
       "3383               72.0               53.0              6.7   \n",
       "\n",
       "      WLTP Metric Medium  WLTP Metric High  WLTP Metric Extra High  \\\n",
       "3332                 5.0               4.7                     5.8   \n",
       "3333                 5.1               4.8                     5.8   \n",
       "3334                 5.0               4.7                     5.8   \n",
       "3335                 5.1               4.8                     5.8   \n",
       "3382                 5.0               4.7                     5.8   \n",
       "3383                 5.1               4.7                     5.8   \n",
       "\n",
       "      WLTP Metric Combined  WLTP CO2  Emissions CO [mg/km] Transmission  \\\n",
       "3332                   5.4     121.0                 927.0       Manual   \n",
       "3333                   5.4     122.0                 927.0       Manual   \n",
       "3334                   5.4     121.0                 927.0       Manual   \n",
       "3335                   5.5     122.0                 927.0       Manual   \n",
       "3382                   5.4     121.0                 927.0       Manual   \n",
       "3383                   5.4     122.0                 927.0       Manual   \n",
       "\n",
       "        Fuel Powertrain  \n",
       "3332  Petrol        ICE  \n",
       "3333  Petrol        ICE  \n",
       "3334  Petrol        ICE  \n",
       "3335  Petrol        ICE  \n",
       "3382  Petrol        ICE  \n",
       "3383  Petrol        ICE  "
      ]
     },
     "execution_count": 16,
     "metadata": {},
     "output_type": "execute_result"
    }
   ],
   "source": [
    "df[df['Emissions CO [mg/km]']==df['Emissions CO [mg/km]'].max()]"
   ]
  },
  {
   "cell_type": "code",
   "execution_count": 17,
   "id": "6e2847db",
   "metadata": {},
   "outputs": [
    {
     "data": {
      "text/html": [
       "<div>\n",
       "<style scoped>\n",
       "    .dataframe tbody tr th:only-of-type {\n",
       "        vertical-align: middle;\n",
       "    }\n",
       "\n",
       "    .dataframe tbody tr th {\n",
       "        vertical-align: top;\n",
       "    }\n",
       "\n",
       "    .dataframe thead th {\n",
       "        text-align: right;\n",
       "    }\n",
       "</style>\n",
       "<table border=\"1\" class=\"dataframe\">\n",
       "  <thead>\n",
       "    <tr style=\"text-align: right;\">\n",
       "      <th></th>\n",
       "      <th>Manufacturer</th>\n",
       "      <th>Model</th>\n",
       "      <th>Description</th>\n",
       "      <th>Engine Capacity</th>\n",
       "      <th>Engine Power (PS)</th>\n",
       "      <th>Engine Power (Kw)</th>\n",
       "      <th>WLTP Metric Low</th>\n",
       "      <th>WLTP Metric Medium</th>\n",
       "      <th>WLTP Metric High</th>\n",
       "      <th>WLTP Metric Extra High</th>\n",
       "      <th>WLTP Metric Combined</th>\n",
       "      <th>WLTP CO2</th>\n",
       "      <th>Emissions CO [mg/km]</th>\n",
       "      <th>Transmission</th>\n",
       "      <th>Fuel</th>\n",
       "      <th>Powertrain</th>\n",
       "    </tr>\n",
       "  </thead>\n",
       "  <tbody>\n",
       "    <tr>\n",
       "      <th>256</th>\n",
       "      <td>CITROEN</td>\n",
       "      <td>New C4</td>\n",
       "      <td>100kW Electric Vehicle with 50kWh battery</td>\n",
       "      <td>0.0</td>\n",
       "      <td>136.0</td>\n",
       "      <td>100.0</td>\n",
       "      <td>0.0</td>\n",
       "      <td>0.0</td>\n",
       "      <td>0.0</td>\n",
       "      <td>0.0</td>\n",
       "      <td>0.0</td>\n",
       "      <td>0.0</td>\n",
       "      <td>0.0</td>\n",
       "      <td>Automatic</td>\n",
       "      <td>Electric</td>\n",
       "      <td>EV</td>\n",
       "    </tr>\n",
       "    <tr>\n",
       "      <th>257</th>\n",
       "      <td>CITROEN</td>\n",
       "      <td>New C4</td>\n",
       "      <td>100kW Electric Vehicle with 50kWh battery</td>\n",
       "      <td>0.0</td>\n",
       "      <td>136.0</td>\n",
       "      <td>100.0</td>\n",
       "      <td>0.0</td>\n",
       "      <td>0.0</td>\n",
       "      <td>0.0</td>\n",
       "      <td>0.0</td>\n",
       "      <td>0.0</td>\n",
       "      <td>0.0</td>\n",
       "      <td>0.0</td>\n",
       "      <td>Automatic</td>\n",
       "      <td>Electric</td>\n",
       "      <td>EV</td>\n",
       "    </tr>\n",
       "    <tr>\n",
       "      <th>270</th>\n",
       "      <td>CITROEN</td>\n",
       "      <td>SpaceTourer</td>\n",
       "      <td>50KWh Electric Vehicle</td>\n",
       "      <td>0.0</td>\n",
       "      <td>136.0</td>\n",
       "      <td>100.0</td>\n",
       "      <td>0.0</td>\n",
       "      <td>0.0</td>\n",
       "      <td>0.0</td>\n",
       "      <td>0.0</td>\n",
       "      <td>0.0</td>\n",
       "      <td>0.0</td>\n",
       "      <td>0.0</td>\n",
       "      <td>Automatic</td>\n",
       "      <td>Electric</td>\n",
       "      <td>EV</td>\n",
       "    </tr>\n",
       "    <tr>\n",
       "      <th>271</th>\n",
       "      <td>CITROEN</td>\n",
       "      <td>SpaceTourer</td>\n",
       "      <td>50KWh Electric Vehicle</td>\n",
       "      <td>0.0</td>\n",
       "      <td>136.0</td>\n",
       "      <td>100.0</td>\n",
       "      <td>0.0</td>\n",
       "      <td>0.0</td>\n",
       "      <td>0.0</td>\n",
       "      <td>0.0</td>\n",
       "      <td>0.0</td>\n",
       "      <td>0.0</td>\n",
       "      <td>0.0</td>\n",
       "      <td>Automatic</td>\n",
       "      <td>Electric</td>\n",
       "      <td>EV</td>\n",
       "    </tr>\n",
       "    <tr>\n",
       "      <th>704</th>\n",
       "      <td>DS</td>\n",
       "      <td>DS 3 CROSSBACK</td>\n",
       "      <td>E-TENSE</td>\n",
       "      <td>0.0</td>\n",
       "      <td>0.0</td>\n",
       "      <td>0.0</td>\n",
       "      <td>0.0</td>\n",
       "      <td>0.0</td>\n",
       "      <td>0.0</td>\n",
       "      <td>0.0</td>\n",
       "      <td>0.0</td>\n",
       "      <td>0.0</td>\n",
       "      <td>0.0</td>\n",
       "      <td>Automatic</td>\n",
       "      <td>Electric</td>\n",
       "      <td>EV</td>\n",
       "    </tr>\n",
       "    <tr>\n",
       "      <th>...</th>\n",
       "      <td>...</td>\n",
       "      <td>...</td>\n",
       "      <td>...</td>\n",
       "      <td>...</td>\n",
       "      <td>...</td>\n",
       "      <td>...</td>\n",
       "      <td>...</td>\n",
       "      <td>...</td>\n",
       "      <td>...</td>\n",
       "      <td>...</td>\n",
       "      <td>...</td>\n",
       "      <td>...</td>\n",
       "      <td>...</td>\n",
       "      <td>...</td>\n",
       "      <td>...</td>\n",
       "      <td>...</td>\n",
       "    </tr>\n",
       "    <tr>\n",
       "      <th>4245</th>\n",
       "      <td>TESLA</td>\n",
       "      <td>Model 3</td>\n",
       "      <td>Performance (E5D#Gp)</td>\n",
       "      <td>0.0</td>\n",
       "      <td>0.0</td>\n",
       "      <td>0.0</td>\n",
       "      <td>0.0</td>\n",
       "      <td>0.0</td>\n",
       "      <td>0.0</td>\n",
       "      <td>0.0</td>\n",
       "      <td>0.0</td>\n",
       "      <td>0.0</td>\n",
       "      <td>0.0</td>\n",
       "      <td>Electric</td>\n",
       "      <td>Electric</td>\n",
       "      <td>EV</td>\n",
       "    </tr>\n",
       "    <tr>\n",
       "      <th>4246</th>\n",
       "      <td>TESLA</td>\n",
       "      <td>Model S</td>\n",
       "      <td>Long Range (SA3EB)</td>\n",
       "      <td>0.0</td>\n",
       "      <td>0.0</td>\n",
       "      <td>0.0</td>\n",
       "      <td>0.0</td>\n",
       "      <td>0.0</td>\n",
       "      <td>0.0</td>\n",
       "      <td>0.0</td>\n",
       "      <td>0.0</td>\n",
       "      <td>0.0</td>\n",
       "      <td>0.0</td>\n",
       "      <td>Electric</td>\n",
       "      <td>Electric</td>\n",
       "      <td>EV</td>\n",
       "    </tr>\n",
       "    <tr>\n",
       "      <th>4247</th>\n",
       "      <td>TESLA</td>\n",
       "      <td>Model S</td>\n",
       "      <td>Performance (SA3EP)</td>\n",
       "      <td>0.0</td>\n",
       "      <td>0.0</td>\n",
       "      <td>0.0</td>\n",
       "      <td>0.0</td>\n",
       "      <td>0.0</td>\n",
       "      <td>0.0</td>\n",
       "      <td>0.0</td>\n",
       "      <td>0.0</td>\n",
       "      <td>0.0</td>\n",
       "      <td>0.0</td>\n",
       "      <td>Electric</td>\n",
       "      <td>Electric</td>\n",
       "      <td>EV</td>\n",
       "    </tr>\n",
       "    <tr>\n",
       "      <th>4248</th>\n",
       "      <td>TESLA</td>\n",
       "      <td>Model X</td>\n",
       "      <td>Long Range (XA3EB)</td>\n",
       "      <td>0.0</td>\n",
       "      <td>0.0</td>\n",
       "      <td>0.0</td>\n",
       "      <td>0.0</td>\n",
       "      <td>0.0</td>\n",
       "      <td>0.0</td>\n",
       "      <td>0.0</td>\n",
       "      <td>0.0</td>\n",
       "      <td>0.0</td>\n",
       "      <td>0.0</td>\n",
       "      <td>Electric</td>\n",
       "      <td>Electric</td>\n",
       "      <td>EV</td>\n",
       "    </tr>\n",
       "    <tr>\n",
       "      <th>4249</th>\n",
       "      <td>TESLA</td>\n",
       "      <td>Model X</td>\n",
       "      <td>Performance (XA3EP)</td>\n",
       "      <td>0.0</td>\n",
       "      <td>0.0</td>\n",
       "      <td>0.0</td>\n",
       "      <td>0.0</td>\n",
       "      <td>0.0</td>\n",
       "      <td>0.0</td>\n",
       "      <td>0.0</td>\n",
       "      <td>0.0</td>\n",
       "      <td>0.0</td>\n",
       "      <td>0.0</td>\n",
       "      <td>Electric</td>\n",
       "      <td>Electric</td>\n",
       "      <td>EV</td>\n",
       "    </tr>\n",
       "  </tbody>\n",
       "</table>\n",
       "<p>283 rows × 16 columns</p>\n",
       "</div>"
      ],
      "text/plain": [
       "     Manufacturer           Model                                Description  \\\n",
       "256       CITROEN          New C4  100kW Electric Vehicle with 50kWh battery   \n",
       "257       CITROEN          New C4  100kW Electric Vehicle with 50kWh battery   \n",
       "270       CITROEN     SpaceTourer                     50KWh Electric Vehicle   \n",
       "271       CITROEN     SpaceTourer                     50KWh Electric Vehicle   \n",
       "704            DS  DS 3 CROSSBACK                                    E-TENSE   \n",
       "...           ...             ...                                        ...   \n",
       "4245        TESLA         Model 3                       Performance (E5D#Gp)   \n",
       "4246        TESLA         Model S                         Long Range (SA3EB)   \n",
       "4247        TESLA         Model S                        Performance (SA3EP)   \n",
       "4248        TESLA         Model X                         Long Range (XA3EB)   \n",
       "4249        TESLA         Model X                        Performance (XA3EP)   \n",
       "\n",
       "      Engine Capacity  Engine Power (PS)  Engine Power (Kw)  WLTP Metric Low  \\\n",
       "256               0.0              136.0              100.0              0.0   \n",
       "257               0.0              136.0              100.0              0.0   \n",
       "270               0.0              136.0              100.0              0.0   \n",
       "271               0.0              136.0              100.0              0.0   \n",
       "704               0.0                0.0                0.0              0.0   \n",
       "...               ...                ...                ...              ...   \n",
       "4245              0.0                0.0                0.0              0.0   \n",
       "4246              0.0                0.0                0.0              0.0   \n",
       "4247              0.0                0.0                0.0              0.0   \n",
       "4248              0.0                0.0                0.0              0.0   \n",
       "4249              0.0                0.0                0.0              0.0   \n",
       "\n",
       "      WLTP Metric Medium  WLTP Metric High  WLTP Metric Extra High  \\\n",
       "256                  0.0               0.0                     0.0   \n",
       "257                  0.0               0.0                     0.0   \n",
       "270                  0.0               0.0                     0.0   \n",
       "271                  0.0               0.0                     0.0   \n",
       "704                  0.0               0.0                     0.0   \n",
       "...                  ...               ...                     ...   \n",
       "4245                 0.0               0.0                     0.0   \n",
       "4246                 0.0               0.0                     0.0   \n",
       "4247                 0.0               0.0                     0.0   \n",
       "4248                 0.0               0.0                     0.0   \n",
       "4249                 0.0               0.0                     0.0   \n",
       "\n",
       "      WLTP Metric Combined  WLTP CO2  Emissions CO [mg/km] Transmission  \\\n",
       "256                    0.0       0.0                   0.0    Automatic   \n",
       "257                    0.0       0.0                   0.0    Automatic   \n",
       "270                    0.0       0.0                   0.0    Automatic   \n",
       "271                    0.0       0.0                   0.0    Automatic   \n",
       "704                    0.0       0.0                   0.0    Automatic   \n",
       "...                    ...       ...                   ...          ...   \n",
       "4245                   0.0       0.0                   0.0     Electric   \n",
       "4246                   0.0       0.0                   0.0     Electric   \n",
       "4247                   0.0       0.0                   0.0     Electric   \n",
       "4248                   0.0       0.0                   0.0     Electric   \n",
       "4249                   0.0       0.0                   0.0     Electric   \n",
       "\n",
       "          Fuel Powertrain  \n",
       "256   Electric         EV  \n",
       "257   Electric         EV  \n",
       "270   Electric         EV  \n",
       "271   Electric         EV  \n",
       "704   Electric         EV  \n",
       "...        ...        ...  \n",
       "4245  Electric         EV  \n",
       "4246  Electric         EV  \n",
       "4247  Electric         EV  \n",
       "4248  Electric         EV  \n",
       "4249  Electric         EV  \n",
       "\n",
       "[283 rows x 16 columns]"
      ]
     },
     "execution_count": 17,
     "metadata": {},
     "output_type": "execute_result"
    }
   ],
   "source": [
    "df[df['Emissions CO [mg/km]']==df['Emissions CO [mg/km]'].min()]"
   ]
  },
  {
   "cell_type": "code",
   "execution_count": 18,
   "id": "4dea0db6",
   "metadata": {},
   "outputs": [
    {
     "data": {
      "text/plain": [
       "0.000000      283\n",
       "233.791603     93\n",
       "96.000000      91\n",
       "71.000000      76\n",
       "88.000000      73\n",
       "             ... \n",
       "159.000000      1\n",
       "360.000000      1\n",
       "255.000000      1\n",
       "491.000000      1\n",
       "38.000000       1\n",
       "Name: Emissions CO [mg/km], Length: 422, dtype: int64"
      ]
     },
     "execution_count": 18,
     "metadata": {},
     "output_type": "execute_result"
    }
   ],
   "source": [
    "df['Emissions CO [mg/km]'].value_counts()"
   ]
  },
  {
   "cell_type": "code",
   "execution_count": 19,
   "id": "c80e2236",
   "metadata": {},
   "outputs": [
    {
     "data": {
      "text/plain": [
       "<AxesSubplot:>"
      ]
     },
     "execution_count": 19,
     "metadata": {},
     "output_type": "execute_result"
    },
    {
     "data": {
      "image/png": "[encoded data removed]",
      "text/plain": [
       "<Figure size 432x288 with 1 Axes>"
      ]
     },
     "metadata": {
      "needs_background": "light"
     },
     "output_type": "display_data"
    }
   ],
   "source": [
    "plt.rcParams[\"figure.figsize\"] = (25,10)\n",
    "df.plot.box(vert=False)"
   ]
  },
  {
   "cell_type": "markdown",
   "id": "076c7100",
   "metadata": {},
   "source": [
    "The analysis above are several consideration to split the data. The maximum emissions CO is 927 mg/km while minimum is 0. The data distribution is not well spread as the median is more in the left, leaving several threshold on the left. The mean of the data is 232.946411."
   ]
  },
  {
   "cell_type": "markdown",
   "id": "6e9edbc0",
   "metadata": {},
   "source": [
    "### Converting the Emissions CO data into Discrete Number"
   ]
  },
  {
   "cell_type": "markdown",
   "id": "63326301",
   "metadata": {},
   "source": [
    "Here we will classify the amount of emissions CO into zero to low emissions and high emissions."
   ]
  },
  {
   "cell_type": "code",
   "execution_count": 20,
   "id": "7335e14b",
   "metadata": {},
   "outputs": [],
   "source": [
    "df['Emissions CO Class'] = pd.qcut(df['Emissions CO [mg/km]'], 2, labels=['zero to low', 'high'])"
   ]
  },
  {
   "cell_type": "code",
   "execution_count": 21,
   "id": "5e0e9b18",
   "metadata": {},
   "outputs": [
    {
     "data": {
      "text/plain": [
       "zero to low    2237\n",
       "high           2230\n",
       "Name: Emissions CO Class, dtype: int64"
      ]
     },
     "execution_count": 21,
     "metadata": {},
     "output_type": "execute_result"
    }
   ],
   "source": [
    "df['Emissions CO Class'].value_counts()"
   ]
  },
  {
   "cell_type": "markdown",
   "id": "fbd949bf",
   "metadata": {},
   "source": [
    "The data is well separated with almost same number. Next, we will start to do the Naive Bayes methods."
   ]
  },
  {
   "cell_type": "markdown",
   "id": "eaa4b28a",
   "metadata": {},
   "source": [
    "## Naive bayes method"
   ]
  },
  {
   "cell_type": "markdown",
   "id": "91aab94e",
   "metadata": {},
   "source": [
    "This method is originally comes from Bayes' Theorem. It is naive, because it assumes that all of the attributes are independent from each other. By calculating the conditional probabilities, there will be a likelihood probability, prior probability and evidence as considerations to predict the probability of something happens. The equation is shown as below:\n",
    "\n",
    "$$P(C_{k}|x)=\\frac{P(C_{k})*P(x|C_{k})}{P(x)}$$\n",
    "\n",
    "where $P(C_{k}|x)$ is the posterior probability, followed by likelihood and prior probability as enumerator and evidence probability as denominator.\n",
    "\n",
    "In our case, we will determine how well the method to predict each class of Emissions CO. Because the data is in continuous number, we will convert it as discrete number. We classify the data into 'zero to low'and 'high' emissions. It is followed by cross-validation to avoid over-fitting."
   ]
  },
  {
   "cell_type": "code",
   "execution_count": 22,
   "id": "8df8f2ce",
   "metadata": {},
   "outputs": [],
   "source": [
    "from sklearn.model_selection import train_test_split\n",
    "from sklearn.preprocessing import OrdinalEncoder\n",
    "from sklearn.preprocessing import StandardScaler\n",
    "from sklearn.naive_bayes import CategoricalNB\n",
    "from sklearn.naive_bayes import BernoulliNB\n",
    "from sklearn.naive_bayes import GaussianNB\n",
    "from sklearn.metrics import accuracy_score\n",
    "from sklearn.metrics import confusion_matrix\n",
    "from sklearn.metrics import classification_report\n",
    "from sklearn.model_selection import cross_val_score\n",
    "from sklearn.metrics import roc_curve, auc\n",
    "import math"
   ]
  },
  {
   "cell_type": "code",
   "execution_count": 23,
   "id": "c75c066f",
   "metadata": {},
   "outputs": [],
   "source": [
    "df['High CO Emission']=df['Emissions CO Class'].apply(lambda x: 1 if x=='high' else 0)"
   ]
  },
  {
   "cell_type": "code",
   "execution_count": 24,
   "id": "25a6d69e",
   "metadata": {},
   "outputs": [
    {
     "data": {
      "text/plain": [
       "zero to low    2237\n",
       "high           2230\n",
       "Name: Emissions CO Class, dtype: int64"
      ]
     },
     "execution_count": 24,
     "metadata": {},
     "output_type": "execute_result"
    }
   ],
   "source": [
    "df['Emissions CO Class'].value_counts()"
   ]
  },
  {
   "cell_type": "code",
   "execution_count": 25,
   "id": "fc93f89e",
   "metadata": {},
   "outputs": [
    {
     "data": {
      "text/html": [
       "<div>\n",
       "<style scoped>\n",
       "    .dataframe tbody tr th:only-of-type {\n",
       "        vertical-align: middle;\n",
       "    }\n",
       "\n",
       "    .dataframe tbody tr th {\n",
       "        vertical-align: top;\n",
       "    }\n",
       "\n",
       "    .dataframe thead th {\n",
       "        text-align: right;\n",
       "    }\n",
       "</style>\n",
       "<table border=\"1\" class=\"dataframe\">\n",
       "  <thead>\n",
       "    <tr style=\"text-align: right;\">\n",
       "      <th></th>\n",
       "      <th>Emissions CO [mg/km]</th>\n",
       "      <th>Transmission</th>\n",
       "      <th>Fuel</th>\n",
       "      <th>Powertrain</th>\n",
       "      <th>Emissions CO Class</th>\n",
       "      <th>High CO Emission</th>\n",
       "    </tr>\n",
       "  </thead>\n",
       "  <tbody>\n",
       "    <tr>\n",
       "      <th>0</th>\n",
       "      <td>760.0</td>\n",
       "      <td>Manual</td>\n",
       "      <td>Petrol</td>\n",
       "      <td>ICE</td>\n",
       "      <td>high</td>\n",
       "      <td>1</td>\n",
       "    </tr>\n",
       "    <tr>\n",
       "      <th>1</th>\n",
       "      <td>760.0</td>\n",
       "      <td>Manual</td>\n",
       "      <td>Petrol</td>\n",
       "      <td>ICE</td>\n",
       "      <td>high</td>\n",
       "      <td>1</td>\n",
       "    </tr>\n",
       "    <tr>\n",
       "      <th>2</th>\n",
       "      <td>760.0</td>\n",
       "      <td>Manual</td>\n",
       "      <td>Petrol</td>\n",
       "      <td>ICE</td>\n",
       "      <td>high</td>\n",
       "      <td>1</td>\n",
       "    </tr>\n",
       "    <tr>\n",
       "      <th>3</th>\n",
       "      <td>760.0</td>\n",
       "      <td>Manual</td>\n",
       "      <td>Petrol</td>\n",
       "      <td>ICE</td>\n",
       "      <td>high</td>\n",
       "      <td>1</td>\n",
       "    </tr>\n",
       "    <tr>\n",
       "      <th>4</th>\n",
       "      <td>829.0</td>\n",
       "      <td>Manual</td>\n",
       "      <td>Petrol</td>\n",
       "      <td>ICE</td>\n",
       "      <td>high</td>\n",
       "      <td>1</td>\n",
       "    </tr>\n",
       "    <tr>\n",
       "      <th>...</th>\n",
       "      <td>...</td>\n",
       "      <td>...</td>\n",
       "      <td>...</td>\n",
       "      <td>...</td>\n",
       "      <td>...</td>\n",
       "      <td>...</td>\n",
       "    </tr>\n",
       "    <tr>\n",
       "      <th>4652</th>\n",
       "      <td>423.0</td>\n",
       "      <td>Automatic</td>\n",
       "      <td>Hybrid</td>\n",
       "      <td>Hybrid</td>\n",
       "      <td>high</td>\n",
       "      <td>1</td>\n",
       "    </tr>\n",
       "    <tr>\n",
       "      <th>4653</th>\n",
       "      <td>423.0</td>\n",
       "      <td>Automatic</td>\n",
       "      <td>Hybrid</td>\n",
       "      <td>Hybrid</td>\n",
       "      <td>high</td>\n",
       "      <td>1</td>\n",
       "    </tr>\n",
       "    <tr>\n",
       "      <th>4654</th>\n",
       "      <td>706.0</td>\n",
       "      <td>Automatic</td>\n",
       "      <td>Hybrid</td>\n",
       "      <td>Hybrid</td>\n",
       "      <td>high</td>\n",
       "      <td>1</td>\n",
       "    </tr>\n",
       "    <tr>\n",
       "      <th>4655</th>\n",
       "      <td>706.0</td>\n",
       "      <td>Automatic</td>\n",
       "      <td>Hybrid</td>\n",
       "      <td>Hybrid</td>\n",
       "      <td>high</td>\n",
       "      <td>1</td>\n",
       "    </tr>\n",
       "    <tr>\n",
       "      <th>4656</th>\n",
       "      <td>706.0</td>\n",
       "      <td>Automatic</td>\n",
       "      <td>Hybrid</td>\n",
       "      <td>Hybrid</td>\n",
       "      <td>high</td>\n",
       "      <td>1</td>\n",
       "    </tr>\n",
       "  </tbody>\n",
       "</table>\n",
       "<p>4467 rows × 6 columns</p>\n",
       "</div>"
      ],
      "text/plain": [
       "      Emissions CO [mg/km] Transmission    Fuel Powertrain Emissions CO Class  \\\n",
       "0                    760.0       Manual  Petrol        ICE               high   \n",
       "1                    760.0       Manual  Petrol        ICE               high   \n",
       "2                    760.0       Manual  Petrol        ICE               high   \n",
       "3                    760.0       Manual  Petrol        ICE               high   \n",
       "4                    829.0       Manual  Petrol        ICE               high   \n",
       "...                    ...          ...     ...        ...                ...   \n",
       "4652                 423.0    Automatic  Hybrid     Hybrid               high   \n",
       "4653                 423.0    Automatic  Hybrid     Hybrid               high   \n",
       "4654                 706.0    Automatic  Hybrid     Hybrid               high   \n",
       "4655                 706.0    Automatic  Hybrid     Hybrid               high   \n",
       "4656                 706.0    Automatic  Hybrid     Hybrid               high   \n",
       "\n",
       "     High CO Emission  \n",
       "0                   1  \n",
       "1                   1  \n",
       "2                   1  \n",
       "3                   1  \n",
       "4                   1  \n",
       "...               ...  \n",
       "4652                1  \n",
       "4653                1  \n",
       "4654                1  \n",
       "4655                1  \n",
       "4656                1  \n",
       "\n",
       "[4467 rows x 6 columns]"
      ]
     },
     "execution_count": 25,
     "metadata": {},
     "output_type": "execute_result"
    }
   ],
   "source": [
    "df.iloc[:,12:]"
   ]
  },
  {
   "cell_type": "markdown",
   "id": "5dfcc5c8",
   "metadata": {},
   "source": [
    "#### Gaussian Naive Bayes"
   ]
  },
  {
   "cell_type": "markdown",
   "id": "4f55fcf0",
   "metadata": {},
   "source": [
    "It assumes that every countinuous values are distributed into a normal(Gaussian) distribution. "
   ]
  },
  {
   "cell_type": "code",
   "execution_count": 26,
   "id": "7dd647da",
   "metadata": {},
   "outputs": [
    {
     "data": {
      "text/plain": [
       "Petrol      2307\n",
       "Diesel      1068\n",
       "Hybrid       948\n",
       "Electric     144\n",
       "Name: Fuel, dtype: int64"
      ]
     },
     "execution_count": 26,
     "metadata": {},
     "output_type": "execute_result"
    }
   ],
   "source": [
    "df['Fuel'].value_counts()"
   ]
  },
  {
   "cell_type": "code",
   "execution_count": 27,
   "id": "65bde600",
   "metadata": {},
   "outputs": [],
   "source": [
    "df['Fuel Class']=df['Fuel'].apply(lambda x: 1 if x=='Petrol' else \n",
    "                                       0 if x=='Diesel' or 'Hybrid' else -1)"
   ]
  },
  {
   "cell_type": "code",
   "execution_count": 28,
   "id": "8cca1af0",
   "metadata": {},
   "outputs": [],
   "source": [
    "X = df[['Fuel Class', 'WLTP CO2']]\n",
    "y = df['High CO Emission']\n",
    "\n",
    "X_train, X_test, y_train, y_test = train_test_split(X, y, test_size=0.2, random_state=0)"
   ]
  },
  {
   "cell_type": "code",
   "execution_count": 29,
   "id": "fffee5b8",
   "metadata": {},
   "outputs": [
    {
     "name": "stdout",
     "output_type": "stream",
     "text": [
      "              precision    recall  f1-score   support\n",
      "\n",
      "           0       0.75      0.68      0.71       455\n",
      "           1       0.70      0.76      0.73       439\n",
      "\n",
      "    accuracy                           0.72       894\n",
      "   macro avg       0.72      0.72      0.72       894\n",
      "weighted avg       0.72      0.72      0.72       894\n",
      "\n"
     ]
    }
   ],
   "source": [
    "model = GaussianNB()\n",
    "clf = model.fit(X_train, y_train)\n",
    "\n",
    "pred_labels = model.predict(X_test)\n",
    "\n",
    "print(classification_report(y_test, pred_labels))"
   ]
  },
  {
   "cell_type": "code",
   "execution_count": 30,
   "id": "fe13c4ba",
   "metadata": {},
   "outputs": [
    {
     "data": {
      "text/plain": [
       "0.7192393736017897"
      ]
     },
     "execution_count": 30,
     "metadata": {},
     "output_type": "execute_result"
    }
   ],
   "source": [
    "model.score(X_test, y_test)"
   ]
  },
  {
   "cell_type": "code",
   "execution_count": 50,
   "id": "968d60fc",
   "metadata": {},
   "outputs": [
    {
     "name": "stdout",
     "output_type": "stream",
     "text": [
      "Cross validation score:  [0.84675615 0.69798658 0.64277716 0.71444569 0.69764838]\n"
     ]
    }
   ],
   "source": [
    "print('Cross validation score: ', cross_val_score(GaussianNB(), X, y, cv = 5))"
   ]
  },
  {
   "cell_type": "markdown",
   "id": "df071e5a",
   "metadata": {},
   "source": [
    "#### Categorical Naive Bayes"
   ]
  },
  {
   "cell_type": "code",
   "execution_count": 32,
   "id": "49d44240",
   "metadata": {},
   "outputs": [
    {
     "name": "stdout",
     "output_type": "stream",
     "text": [
      "              precision    recall  f1-score   support\n",
      "\n",
      "           0       0.59      0.72      0.65       455\n",
      "           1       0.62      0.48      0.54       439\n",
      "\n",
      "    accuracy                           0.60       894\n",
      "   macro avg       0.61      0.60      0.59       894\n",
      "weighted avg       0.61      0.60      0.60       894\n",
      "\n"
     ]
    }
   ],
   "source": [
    "X = df[['Transmission', 'Powertrain']]\n",
    "y = df['High CO Emission'].values\n",
    "\n",
    "enc = OrdinalEncoder()\n",
    "X = enc.fit_transform(X)\n",
    "\n",
    "X_train, X_test, y_train, y_test = train_test_split(X, y, test_size=0.2, random_state=0)\n",
    "model = CategoricalNB()\n",
    "clf = model.fit(X_train, y_train)\n",
    "\n",
    "pred_labels = model.predict(X_test)\n",
    "\n",
    "print(classification_report(y_test, pred_labels))"
   ]
  },
  {
   "cell_type": "code",
   "execution_count": 33,
   "id": "667a6d59",
   "metadata": {},
   "outputs": [
    {
     "name": "stdout",
     "output_type": "stream",
     "text": [
      "Accuracy score:  0.6017897091722595\n"
     ]
    }
   ],
   "source": [
    "print('Accuracy score: ', clf.score(X_test, y_test))"
   ]
  },
  {
   "cell_type": "code",
   "execution_count": 49,
   "id": "370f29fb",
   "metadata": {},
   "outputs": [
    {
     "name": "stdout",
     "output_type": "stream",
     "text": [
      "Cross validation score:  [0.86017897 0.69798658 0.64277716 0.66965286 0.68085106]\n"
     ]
    }
   ],
   "source": [
    "print('Cross validation score: ', cross_val_score(CategoricalNB(), X, y, cv = 5))"
   ]
  },
  {
   "cell_type": "markdown",
   "id": "c3e5ab44",
   "metadata": {},
   "source": [
    "#### Mixed Naive Bayes"
   ]
  },
  {
   "cell_type": "markdown",
   "id": "bd7c4452",
   "metadata": {},
   "source": [
    "Here we will combine between the continuous attributes and categorical attributes. "
   ]
  },
  {
   "cell_type": "code",
   "execution_count": 48,
   "id": "09669926",
   "metadata": {},
   "outputs": [
    {
     "name": "stdout",
     "output_type": "stream",
     "text": [
      "              precision    recall  f1-score   support\n",
      "\n",
      "           0       0.75      0.68      0.71       455\n",
      "           1       0.70      0.76      0.73       439\n",
      "\n",
      "    accuracy                           0.72       894\n",
      "   macro avg       0.72      0.72      0.72       894\n",
      "weighted avg       0.72      0.72      0.72       894\n",
      "\n",
      "Accuracy score:  0.7192393736017897\n",
      "Cross validation score:  [0.86017897 0.69798658 0.64277716 0.66965286 0.68085106]\n"
     ]
    }
   ],
   "source": [
    "df['WLTPCO2_qt'] = pd.qcut(df['WLTP CO2'], 5, labels=['bottom 20', 'lower 20', 'middle 20', 'upper 20', 'top 20'])\n",
    "\n",
    "X = df[['Transmission', 'Powertrain', 'Fuel Class', 'WLTPCO2_qt']]\n",
    "y = df['High CO Emission']\n",
    "\n",
    "enc = OrdinalEncoder()\n",
    "X = enc.fit_transform(X)\n",
    "\n",
    "X_train, X_test, y_train, y_test = train_test_split(X, y, test_size=0.2, random_state=0)\n",
    "model = CategoricalNB()\n",
    "clf = model.fit(X_train, y_train)\n",
    "\n",
    "label = model.predict(X_test)\n",
    "\n",
    "print(classification_report(y_test, label))\n",
    "print('Accuracy score: ', clf.score(X_test, y_test))\n",
    "print('Cross validation score: ', cross_val_score(CategoricalNB(), X, y, cv = 5))"
   ]
  },
  {
   "cell_type": "markdown",
   "id": "c67b4115",
   "metadata": {},
   "source": [
    "Here we will combine the model fitting of each Gaussian and Categorical. The new probaility of each model is combined and to be used into the further fit modelling."
   ]
  },
  {
   "cell_type": "code",
   "execution_count": 51,
   "id": "652f6be2",
   "metadata": {},
   "outputs": [
    {
     "name": "stdout",
     "output_type": "stream",
     "text": [
      "Classes:  [0 1]\n",
      "Class Priors:  [0.49874055 0.50125945]\n",
      "--------------------------------------------------------\n",
      "Accuracy Score:  0.7315436241610739\n",
      "Cross validation score:  [0.85011186 0.70693512 0.66741321 0.71444569 0.69764838]\n",
      "--------------------------------------------------------\n",
      "              precision    recall  f1-score   support\n",
      "\n",
      "           0       0.56      0.90      0.69       455\n",
      "           1       0.73      0.28      0.41       439\n",
      "\n",
      "    accuracy                           0.60       894\n",
      "   macro avg       0.64      0.59      0.55       894\n",
      "weighted avg       0.64      0.60      0.55       894\n",
      "\n"
     ]
    }
   ],
   "source": [
    "XG = df[['Fuel Class', 'WLTP CO2']]\n",
    "XC = df[['Transmission', 'Powertrain']]\n",
    "\n",
    "enc = OrdinalEncoder()\n",
    "XC = enc.fit_transform(XC)\n",
    "\n",
    "X=np.c_[XG, XC[:,0].ravel(), XC[:,1].ravel()]\n",
    "\n",
    "Xtrain, Xtest, ytrain, ytest = train_test_split(X, y, test_size=0.2, random_state=0)\n",
    "\n",
    "\n",
    "# Model Fitting\n",
    "# Gaussian model\n",
    "mG = GaussianNB()\n",
    "fitG = mG.fit(Xtrain[:,0:2], ytrain)\n",
    "# Categorical model\n",
    "mC = CategoricalNB()\n",
    "fitC = mC.fit(Xtrain[:,2:4], ytrain)\n",
    "\n",
    "\n",
    "# Probability each train and test dataset\n",
    "# On training data\n",
    "G_train_probas = mG.predict_proba(Xtrain[:,0:2])\n",
    "C_train_probas = mC.predict_proba(Xtrain[:,2:4])\n",
    "# And on testing data\n",
    "G_test_probas = mG.predict_proba(Xtest[:,0:2])\n",
    "C_test_probas = mC.predict_proba(Xtest[:,2:4])\n",
    "\n",
    "# New combination probability\n",
    "X_new_train = np.c_[(G_train_probas[:,1], C_train_probas[:,1])] # Train\n",
    "X_new_test = np.c_[(G_test_probas[:,1], C_test_probas[:,1])] # Test\n",
    "\n",
    "\n",
    "# Fit the model\n",
    "mG = GaussianNB()\n",
    "fitG = mG.fit(X_new_train, y_train)\n",
    "\n",
    "# Predict class labels on a test data\n",
    "lpred = mG.predict(X_new_test)\n",
    "\n",
    "\n",
    "print('Classes: ', fitG.classes_) # class labels known to the classifier\n",
    "print('Class Priors: ', fitG.class_prior_) # probability of each class.\n",
    "# Use score method to get accuracy of model\n",
    "print('--------------------------------------------------------')\n",
    "score = mG.score(X_new_test, y_test)\n",
    "print('Accuracy Score: ', score)\n",
    "print('Cross validation score: ', cross_val_score(GaussianNB(), X, y, cv = 5))\n",
    "print('--------------------------------------------------------')\n",
    "# Look at classification report to evaluate the model\n",
    "print(classification_report(y_test, pred_labels))"
   ]
  },
  {
   "cell_type": "markdown",
   "id": "e9e86605",
   "metadata": {},
   "source": [
    "From the combination above, the highest accuracy score is obtained in the last method which is combination between Gaussian and Categorical NB. This model is categorized as good model with accuracy higher than 70%, the accuracy is 73.15%.\n",
    "\n",
    "To improve the accuracy, we try to vary the emission CO into three label as below."
   ]
  },
  {
   "cell_type": "markdown",
   "id": "c4336ca2",
   "metadata": {},
   "source": [
    "### Three Class labels for Emission CO"
   ]
  },
  {
   "cell_type": "code",
   "execution_count": 37,
   "id": "a07d0491",
   "metadata": {},
   "outputs": [
    {
     "data": {
      "text/plain": [
       "low       1511\n",
       "high      1481\n",
       "medium    1475\n",
       "Name: Emissions CO 3Class, dtype: int64"
      ]
     },
     "execution_count": 37,
     "metadata": {},
     "output_type": "execute_result"
    }
   ],
   "source": [
    "df['Emissions CO 3Class'] = pd.qcut(df['Emissions CO [mg/km]'], 3, labels=['low', 'medium', 'high'])\n",
    "df['Emissions CO 3Class'].value_counts()"
   ]
  },
  {
   "cell_type": "code",
   "execution_count": 38,
   "id": "46a4ec61",
   "metadata": {},
   "outputs": [],
   "source": [
    "df['CO Emission']=df['Emissions CO 3Class'].apply(lambda x: 1 if x=='high' else \n",
    "                                       0 if x=='medium' else -1)"
   ]
  },
  {
   "cell_type": "code",
   "execution_count": 52,
   "id": "23493d81",
   "metadata": {},
   "outputs": [
    {
     "name": "stdout",
     "output_type": "stream",
     "text": [
      "              precision    recall  f1-score   support\n",
      "\n",
      "          -1       0.57      0.70      0.63       305\n",
      "           0       0.53      0.07      0.12       283\n",
      "           1       0.51      0.81      0.63       306\n",
      "\n",
      "    accuracy                           0.54       894\n",
      "   macro avg       0.54      0.53      0.46       894\n",
      "weighted avg       0.54      0.54      0.47       894\n",
      "\n",
      "Accuracy Score:  0.5391498881431768\n",
      "Cross validation score:  [0.63087248 0.43400447 0.52295633 0.54647256 0.43337066]\n"
     ]
    }
   ],
   "source": [
    "# Gaussian\n",
    "\n",
    "X = df[['Fuel Class', 'WLTP CO2']]\n",
    "y = df['CO Emission']\n",
    "\n",
    "X_train, X_test, y_train, y_test = train_test_split(X, y, test_size=0.2, random_state=0)\n",
    "\n",
    "model = GaussianNB()\n",
    "clf = model.fit(X_train, y_train)\n",
    "\n",
    "pred_labels = model.predict(X_test)\n",
    "\n",
    "print(classification_report(y_test, pred_labels))\n",
    "score = model.score(X_test, y_test)\n",
    "print('Accuracy Score: ', score)\n",
    "print('Cross validation score: ', cross_val_score(GaussianNB(), X, y, cv = 5))"
   ]
  },
  {
   "cell_type": "code",
   "execution_count": 53,
   "id": "50fef564",
   "metadata": {},
   "outputs": [
    {
     "name": "stdout",
     "output_type": "stream",
     "text": [
      "              precision    recall  f1-score   support\n",
      "\n",
      "          -1       0.47      0.59      0.52       305\n",
      "           0       0.52      0.39      0.45       283\n",
      "           1       0.45      0.44      0.45       306\n",
      "\n",
      "    accuracy                           0.48       894\n",
      "   macro avg       0.48      0.47      0.47       894\n",
      "weighted avg       0.48      0.48      0.47       894\n",
      "\n",
      "Accuracy Score:  0.47651006711409394\n",
      "Cross validation score:  [0.43512304 0.61409396 0.46136618 0.22844345 0.52631579]\n"
     ]
    }
   ],
   "source": [
    "X = df[['Transmission', 'Powertrain']]\n",
    "y = df['CO Emission'].values\n",
    "\n",
    "enc = OrdinalEncoder()\n",
    "X = enc.fit_transform(X)\n",
    "\n",
    "X_train, X_test, y_train, y_test = train_test_split(X, y, test_size=0.2, random_state=0)\n",
    "model = CategoricalNB()\n",
    "clf = model.fit(X_train, y_train)\n",
    "\n",
    "pred_labels = model.predict(X_test)\n",
    "\n",
    "print(classification_report(y_test, pred_labels))\n",
    "score = model.score(X_test, y_test)\n",
    "print('Accuracy Score: ', score)\n",
    "print('Cross validation score: ', cross_val_score(GaussianNB(), X, y, cv = 5))"
   ]
  },
  {
   "cell_type": "markdown",
   "id": "bae169a8",
   "metadata": {},
   "source": [
    "By using three classes prediction, the accuracy decrease almost 30%. Therefore, we try to use other attributes to predict Emissions CO."
   ]
  },
  {
   "cell_type": "markdown",
   "id": "3077ae87",
   "metadata": {},
   "source": [
    "### Improving the Accuracy by trying the other attributes"
   ]
  },
  {
   "cell_type": "code",
   "execution_count": 41,
   "id": "4be9ec80",
   "metadata": {},
   "outputs": [
    {
     "data": {
      "text/plain": [
       "Index(['Manufacturer', 'Model', 'Description', 'Engine Capacity',\n",
       "       'Engine Power (PS)', 'Engine Power (Kw)', 'WLTP Metric Low',\n",
       "       'WLTP Metric Medium', 'WLTP Metric High', 'WLTP Metric Extra High',\n",
       "       'WLTP Metric Combined', 'WLTP CO2', 'Emissions CO [mg/km]',\n",
       "       'Transmission', 'Fuel', 'Powertrain', 'Emissions CO Class',\n",
       "       'High CO Emission', 'Fuel Class', 'WLTPCO2_qt', 'Emissions CO 3Class',\n",
       "       'CO Emission'],\n",
       "      dtype='object')"
      ]
     },
     "execution_count": 41,
     "metadata": {},
     "output_type": "execute_result"
    }
   ],
   "source": [
    "df.columns"
   ]
  },
  {
   "cell_type": "code",
   "execution_count": 54,
   "id": "67cdf181",
   "metadata": {},
   "outputs": [
    {
     "name": "stdout",
     "output_type": "stream",
     "text": [
      "              precision    recall  f1-score   support\n",
      "\n",
      "           0       0.54      0.87      0.67       455\n",
      "           1       0.65      0.24      0.35       439\n",
      "\n",
      "    accuracy                           0.56       894\n",
      "   macro avg       0.60      0.56      0.51       894\n",
      "weighted avg       0.60      0.56      0.51       894\n",
      "\n",
      "Accuracy Score:  0.5637583892617449\n",
      "Cross validation score:  [0.50223714 0.51230425 0.58678611 0.54759239 0.537514  ]\n"
     ]
    }
   ],
   "source": [
    "X = df[['Engine Power (PS)', 'WLTP CO2']]\n",
    "y = df['High CO Emission']\n",
    "\n",
    "X_train, X_test, y_train, y_test = train_test_split(X, y, test_size=0.2, random_state=0)\n",
    "\n",
    "model = GaussianNB()\n",
    "clf = model.fit(X_train, y_train)\n",
    "\n",
    "pred_labels = model.predict(X_test)\n",
    "\n",
    "print(classification_report(y_test, pred_labels))\n",
    "score = model.score(X_test, y_test)\n",
    "print('Accuracy Score: ', score)\n",
    "print('Cross validation score: ', cross_val_score(GaussianNB(), X, y, cv = 5))"
   ]
  },
  {
   "cell_type": "code",
   "execution_count": 55,
   "id": "a6911972",
   "metadata": {},
   "outputs": [
    {
     "name": "stdout",
     "output_type": "stream",
     "text": [
      "              precision    recall  f1-score   support\n",
      "\n",
      "           0       0.63      0.87      0.73       455\n",
      "           1       0.78      0.47      0.59       439\n",
      "\n",
      "    accuracy                           0.67       894\n",
      "   macro avg       0.70      0.67      0.66       894\n",
      "weighted avg       0.70      0.67      0.66       894\n",
      "\n",
      "Accuracy Score:  0.6733780760626398\n",
      "Cross validation score:  [0.56263982 0.58389262 0.537514   0.67077268 0.53639418]\n"
     ]
    }
   ],
   "source": [
    "X = df[['Engine Capacity', 'WLTP CO2']]\n",
    "y = df['High CO Emission']\n",
    "\n",
    "X_train, X_test, y_train, y_test = train_test_split(X, y, test_size=0.2, random_state=0)\n",
    "\n",
    "model = GaussianNB()\n",
    "clf = model.fit(X_train, y_train)\n",
    "\n",
    "pred_labels = model.predict(X_test)\n",
    "\n",
    "print(classification_report(y_test, pred_labels))\n",
    "score = model.score(X_test, y_test)\n",
    "print('Accuracy Score: ', score)\n",
    "print('Cross validation score: ', cross_val_score(GaussianNB(), X, y, cv = 5))"
   ]
  },
  {
   "cell_type": "code",
   "execution_count": 56,
   "id": "e8911154",
   "metadata": {},
   "outputs": [
    {
     "name": "stdout",
     "output_type": "stream",
     "text": [
      "              precision    recall  f1-score   support\n",
      "\n",
      "           0       0.54      0.88      0.67       455\n",
      "           1       0.64      0.22      0.32       439\n",
      "\n",
      "    accuracy                           0.55       894\n",
      "   macro avg       0.59      0.55      0.50       894\n",
      "weighted avg       0.59      0.55      0.50       894\n",
      "\n",
      "Accuracy Score:  0.5548098434004475\n",
      "Cross validation score:  [0.47651007 0.53579418 0.61142217 0.53975364 0.49272116]\n"
     ]
    }
   ],
   "source": [
    "X = df[['WLTP Metric Combined', 'WLTP CO2']]\n",
    "y = df['High CO Emission']\n",
    "\n",
    "X_train, X_test, y_train, y_test = train_test_split(X, y, test_size=0.2, random_state=0)\n",
    "\n",
    "model = GaussianNB()\n",
    "clf = model.fit(X_train, y_train)\n",
    "\n",
    "pred_labels = model.predict(X_test)\n",
    "\n",
    "print(classification_report(y_test, pred_labels))\n",
    "score = model.score(X_test, y_test)\n",
    "print('Accuracy Score: ', score)\n",
    "print('Cross validation score: ', cross_val_score(GaussianNB(), X, y, cv = 5))"
   ]
  },
  {
   "cell_type": "code",
   "execution_count": 57,
   "id": "9c726362",
   "metadata": {},
   "outputs": [
    {
     "name": "stdout",
     "output_type": "stream",
     "text": [
      "              precision    recall  f1-score   support\n",
      "\n",
      "           0       0.54      0.87      0.67       455\n",
      "           1       0.65      0.24      0.35       439\n",
      "\n",
      "    accuracy                           0.56       894\n",
      "   macro avg       0.60      0.56      0.51       894\n",
      "weighted avg       0.60      0.56      0.52       894\n",
      "\n",
      "Accuracy Score:  0.5637583892617449\n",
      "Cross validation score:  [0.50223714 0.51342282 0.59238522 0.54759239 0.53863382]\n"
     ]
    }
   ],
   "source": [
    "X = df[['Engine Power (Kw)', 'WLTP CO2']]\n",
    "y = df['High CO Emission']\n",
    "\n",
    "X_train, X_test, y_train, y_test = train_test_split(X, y, test_size=0.2, random_state=0)\n",
    "\n",
    "model = GaussianNB()\n",
    "clf = model.fit(X_train, y_train)\n",
    "\n",
    "pred_labels = model.predict(X_test)\n",
    "\n",
    "print(classification_report(y_test, pred_labels))\n",
    "score = model.score(X_test, y_test)\n",
    "print('Accuracy Score: ', score)\n",
    "print('Cross validation score: ', cross_val_score(GaussianNB(), X, y, cv = 5))"
   ]
  },
  {
   "cell_type": "code",
   "execution_count": 58,
   "id": "203dd07c",
   "metadata": {},
   "outputs": [
    {
     "name": "stdout",
     "output_type": "stream",
     "text": [
      "              precision    recall  f1-score   support\n",
      "\n",
      "           0       0.56      0.90      0.69       455\n",
      "           1       0.73      0.28      0.41       439\n",
      "\n",
      "    accuracy                           0.60       894\n",
      "   macro avg       0.64      0.59      0.55       894\n",
      "weighted avg       0.64      0.60      0.55       894\n",
      "\n",
      "Accuracy Score:  0.5950782997762863\n",
      "Cross validation score:  [0.48993289 0.55033557 0.62933931 0.59462486 0.53079507]\n"
     ]
    }
   ],
   "source": [
    "X = df[['Engine Power (Kw)', 'Engine Capacity']]\n",
    "y = df['High CO Emission']\n",
    "\n",
    "X_train, X_test, y_train, y_test = train_test_split(X, y, test_size=0.2, random_state=0)\n",
    "\n",
    "model = GaussianNB()\n",
    "clf = model.fit(X_train, y_train)\n",
    "\n",
    "pred_labels = model.predict(X_test)\n",
    "\n",
    "print(classification_report(y_test, pred_labels))\n",
    "score = model.score(X_test, y_test)\n",
    "print('Accuracy Score: ', score)\n",
    "print('Cross validation score: ', cross_val_score(GaussianNB(), X, y, cv = 5))"
   ]
  },
  {
   "cell_type": "markdown",
   "id": "bd31e50e",
   "metadata": {},
   "source": [
    "The best attributes to be used are still the combination of Fuel, WLTP CO2, Transmission, and Powertrain. The other attributes does not improve the accuracy score."
   ]
  },
  {
   "cell_type": "markdown",
   "id": "e77144a1",
   "metadata": {},
   "source": [
    "The validation test for this method is done by using cross validation with the number of split to use is 5. This method basically is used for confirming whether the model can generalise over the dataset. From the obtained results (which is a list of scores per split), the best generalised model over the dataset is done by Categorical Naive Bayes."
   ]
  },
  {
   "cell_type": "markdown",
   "id": "2c87eeae",
   "metadata": {},
   "source": [
    "### ROC Curve"
   ]
  },
  {
   "cell_type": "code",
   "execution_count": 47,
   "id": "1882fc12",
   "metadata": {},
   "outputs": [
    {
     "data": {
      "image/png": "[encoded data removed]",
      "text/plain": [
       "<Figure size 432x432 with 1 Axes>"
      ]
     },
     "metadata": {
      "needs_background": "light"
     },
     "output_type": "display_data"
    }
   ],
   "source": [
    "model = GaussianNB()\n",
    "clf = model.fit(X_new_train, y_train)\n",
    "\n",
    "ypredprobs = model.predict_proba(X_new_test)\n",
    "probs = ypredprobs[:, 1]\n",
    "\n",
    "fper, tper, threshold = roc_curve(ytest, probs)\n",
    "\n",
    "plt.figure(figsize=(6, 6))\n",
    "plt.plot(fper, tper)\n",
    "plt.plot([0, 1], [0, 1], linestyle='--')\n",
    "plt.xlabel('False positive rate')\n",
    "plt.ylabel('True positive rate')\n",
    "plt.title('Receiver Operating Characteristic(ROC) Curve')\n",
    "plt.show()"
   ]
  },
  {
   "cell_type": "markdown",
   "id": "cbf4d24d",
   "metadata": {},
   "source": [
    "This curve shows the performace of classification on the combination model between Gaussian and Categorical NB at all classification threshold. As the curve gets closer to the top-left corner, it indicates a good performance."
   ]
  },
  {
   "cell_type": "markdown",
   "id": "6699fe0f",
   "metadata": {},
   "source": [
    "##### Model Evaluation"
   ]
  },
  {
   "cell_type": "markdown",
   "id": "370b3c54",
   "metadata": {},
   "source": [
    "As a conclusion from Naive Bayes model, this method does not perform extremely good. It might because this method really depends on the each attributes probability, their correlation between each others and the predicted value, also the prior probability (relates to the relation between predicted and another attribute). From the cross validation score, Categorical Naive Bayes got the highest score. The evaluation of the model is shown as accuracy score. Overall, the highest accuracy score is 73.15%, which is obtained by combination naive bayes method between Gaussian Naive Bayes and Categorical Naive Bayes. "
   ]
  }
 ],
 "metadata": {
  "kernelspec": {
   "display_name": "Python 3 (ipykernel)",
   "language": "python",
   "name": "python3"
  },
  "language_info": {
   "codemirror_mode": {
    "name": "ipython",
    "version": 3
   },
   "file_extension": ".py",
   "mimetype": "text/x-python",
   "name": "python",
   "nbconvert_exporter": "python",
   "pygments_lexer": "ipython3",
   "version": "3.10.8"
  }
 },
 "nbformat": 4,
 "nbformat_minor": 5
}
