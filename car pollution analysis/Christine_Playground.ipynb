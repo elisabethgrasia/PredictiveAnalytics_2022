{
 "cells": [
  {
   "cell_type": "code",
   "execution_count": 1,
   "id": "1c07eba8",
   "metadata": {},
   "outputs": [],
   "source": [
    "import numpy as np\n",
    "import pandas as pd\n",
    "import matplotlib.pyplot as plt\n",
    "%matplotlib inline\n",
    "import seaborn as sns\n",
    "from sklearn.model_selection import train_test_split\n",
    "from sklearn.preprocessing import LabelEncoder\n",
    "from sklearn.preprocessing import OneHotEncoder\n",
    "from sklearn.preprocessing import StandardScaler\n",
    "from sklearn.pipeline import Pipeline\n",
    "from sklearn.model_selection import KFold\n",
    "\n",
    "# read dataset file\n",
    "\n",
    "df = pd.read_csv('Euro_6_latest.csv', delimiter=',')"
   ]
  },
  {
   "cell_type": "code",
   "execution_count": 2,
   "id": "90c3058e",
   "metadata": {},
   "outputs": [
    {
     "data": {
      "text/plain": [
       "(4657, 18)"
      ]
     },
     "execution_count": 2,
     "metadata": {},
     "output_type": "execute_result"
    }
   ],
   "source": [
    "# Remove a funny column called Unnamed\n",
    "df = df.loc[:, ~df.columns.str.contains('^Unnamed')]\n",
    "\n",
    "# Remove features with more than 70% missing values\n",
    "limitPer = len(df) * .70\n",
    "df = df.dropna(thresh=limitPer, axis=1).copy()\n",
    "\n",
    "\n",
    "# drop unnecessary columns\n",
    "df = df.drop(['Transmission','Euro Standard','Testing Scheme','Date of change','WLTP Imperial Low',\n",
    "               'WLTP Imperial Medium','WLTP Imperial High','WLTP Imperial Extra High',\n",
    "               'WLTP Imperial Combined','WLTP Imperial Combined (Weighted)' ,\n",
    "                'Diesel VED Supplement','Emissions NOx [mg/km]',\n",
    "               'THC Emissions [mg/km]','Noise Level dB(A)'], axis=1).copy()\n",
    "df.shape"
   ]
  },
  {
   "cell_type": "code",
   "execution_count": 3,
   "id": "9543ccb1",
   "metadata": {},
   "outputs": [
    {
     "name": "stdout",
     "output_type": "stream",
     "text": [
      "['Manual' 'Automatic' 'Electric - Not Applicable'] \n",
      "\n"
     ]
    }
   ],
   "source": [
    "print(df['Manual or Automatic'].unique(),'\\n')\n",
    "# Create a new column 'Transmission', assign it a value of Automatic where the \n",
    "# first character of Transmission is A\n",
    "# or Manual if the first letter is M or Electric if first letter is E \n",
    "AUTOMATIC = \"Automatic\"\n",
    "MANUAL = \"Manual\"\n",
    "ELECTRIC = \"Electric\"\n",
    "df.loc[df['Manual or Automatic'].str.startswith('A'),'Transmission'] = AUTOMATIC\n",
    "df.loc[df['Manual or Automatic'].str.startswith('M'),'Transmission'] = MANUAL\n",
    "df.loc[df['Manual or Automatic'].str.startswith('E'),'Transmission'] = ELECTRIC"
   ]
  },
  {
   "cell_type": "code",
   "execution_count": 5,
   "id": "ea556737",
   "metadata": {},
   "outputs": [],
   "source": [
    "pertrol = ['Petrol','Petrol / LPG']\n",
    "diesel = ['Diesel']\n",
    "electric = ['Electricity']\n",
    "hybrid = ['Electricity / Petrol','Petrol Electric','Diesel Electric','Electricity / Diesel']\n",
    "#df = df.copy()\n",
    "df.loc[df['Fuel Type'].isin(pertrol), 'Fuel'] = 'Petrol'\n",
    "df.loc[df['Fuel Type'].isin(diesel), 'Fuel'] = 'Diesel'\n",
    "df.loc[df['Fuel Type'].isin(electric), 'Fuel'] = 'Electric'\n",
    "df.loc[df['Fuel Type'].isin(hybrid), 'Fuel'] = 'Hybrid'"
   ]
  },
  {
   "cell_type": "code",
   "execution_count": 6,
   "id": "f08ddced",
   "metadata": {},
   "outputs": [],
   "source": [
    "ice = ['Internal Combustion Engine (ICE)']\n",
    "hybrid = ['Plug-in Hybrid Electric Vehicle (PHEV)',\n",
    "          'Mild Hybrid Electric Vehicle (MHEV)',\n",
    "          'Hybrid Electric Vehicle (HEV)','Micro Hybrid']\n",
    "ev = ['Battery Electric Vehicle (BEV) / Pure Electric Vehicle / Electric Vehicle (EV)']\n",
    "\n",
    "df.loc[df['Powertrain'].isin(ice), 'PT'] = 'ICE'\n",
    "df.loc[df['Powertrain'].isin(ev), 'PT'] = 'EV'\n",
    "df.loc[df['Powertrain'].isin(hybrid), 'PT'] = 'Hybrid'"
   ]
  },
  {
   "cell_type": "markdown",
   "id": "207c80fb",
   "metadata": {},
   "source": [
    "And we drop the original columns Powertrain, Fuel Type, and Manual or Automatic."
   ]
  },
  {
   "cell_type": "code",
   "execution_count": 7,
   "id": "df6c20b9",
   "metadata": {},
   "outputs": [],
   "source": [
    "# Drop the old columns\n",
    "df = df.drop(['Powertrain','Fuel Type','Manual or Automatic'], axis=1)"
   ]
  },
  {
   "cell_type": "markdown",
   "id": "726406f0",
   "metadata": {},
   "source": [
    "And rename PT back to Powertrain"
   ]
  },
  {
   "cell_type": "code",
   "execution_count": 8,
   "id": "769f2f4e",
   "metadata": {},
   "outputs": [],
   "source": [
    "df.rename(columns={'PT':'Powertrain'}, inplace=True)"
   ]
  },
  {
   "cell_type": "markdown",
   "id": "e932f95d",
   "metadata": {},
   "source": [
    "###  2.3 - Handle missing values and zeros\n",
    "\n",
    "We check missing values in each of the remaining columns"
   ]
  },
  {
   "cell_type": "code",
   "execution_count": 9,
   "id": "ebe843cd",
   "metadata": {},
   "outputs": [],
   "source": [
    "df['Engine Capacity'] = df['Engine Capacity'].fillna(0)"
   ]
  },
  {
   "cell_type": "code",
   "execution_count": 10,
   "id": "71e09fcc",
   "metadata": {},
   "outputs": [],
   "source": [
    "df['Engine Power (PS)'] = df.groupby(['Manufacturer','Model'], sort=False) \\\n",
    "    ['Engine Power (PS)'].apply(lambda x: x.ffill().bfill())\n",
    "\n",
    "# Same with Engine Power (Kw)\n",
    "df['Engine Power (Kw)'] = df.groupby(['Manufacturer','Model'], sort=False) \\\n",
    "    ['Engine Power (Kw)'].apply(lambda x: x.ffill().bfill())"
   ]
  },
  {
   "cell_type": "markdown",
   "id": "cac1053f",
   "metadata": {},
   "source": [
    "Some of the features has many zeros. For example, <i>WLTP Metric Combined (Weighted)</i> and <i>WLTP CO2</i>.<br/>\n",
    "\n",
    "Let's count how many zeros in WLTP Metric Combined (Weighted) and WLTP CO2 Weighted columns"
   ]
  },
  {
   "cell_type": "code",
   "execution_count": 11,
   "id": "1cbcf877",
   "metadata": {},
   "outputs": [],
   "source": [
    "df = df.drop(['WLTP Metric Combined (Weighted)','WLTP CO2 Weighted'], axis=1).copy()"
   ]
  },
  {
   "cell_type": "markdown",
   "id": "e5b34f2e",
   "metadata": {},
   "source": [
    "For the rest of the features, we are going to fill missing values with mean of each column.<br>\n",
    "\n",
    "We did not replace 0 values with the mean because that is not correct, for example electric cars may have 0 CO emissions."
   ]
  },
  {
   "cell_type": "code",
   "execution_count": 12,
   "id": "26db73d6",
   "metadata": {},
   "outputs": [
    {
     "data": {
      "text/plain": [
       "Manufacturer                0\n",
       "Model                       0\n",
       "Description                 0\n",
       "Engine Capacity             0\n",
       "Engine Power (PS)         177\n",
       "Engine Power (Kw)          89\n",
       "WLTP Metric Low             0\n",
       "WLTP Metric Medium          0\n",
       "WLTP Metric High            0\n",
       "WLTP Metric Extra High      0\n",
       "WLTP Metric Combined        0\n",
       "WLTP CO2                    0\n",
       "Emissions CO [mg/km]        0\n",
       "Transmission                0\n",
       "Fuel                        0\n",
       "Powertrain                  0\n",
       "dtype: int64"
      ]
     },
     "execution_count": 12,
     "metadata": {},
     "output_type": "execute_result"
    }
   ],
   "source": [
    "df['WLTP Metric Combined'].fillna((df['WLTP Metric Combined'].mean()), inplace=True)\n",
    "df['WLTP Metric Low'].fillna((df['WLTP Metric Low'].mean()), inplace=True)\n",
    "df['WLTP Metric Medium'].fillna((df['WLTP Metric Medium'].mean()), inplace=True)\n",
    "df['WLTP Metric High'].fillna((df['WLTP Metric High'].mean()), inplace=True)\n",
    "df['WLTP Metric Extra High'].fillna((df['WLTP Metric Extra High'].mean()), inplace=True)\n",
    "df['WLTP CO2'].fillna((df['WLTP CO2'].mean()), inplace=True)\n",
    "df['Emissions CO [mg/km]'].fillna((df['Emissions CO [mg/km]'].mean()), inplace=True)\n",
    "df.isnull().sum(axis = 0)"
   ]
  },
  {
   "cell_type": "markdown",
   "id": "59e555a0",
   "metadata": {},
   "source": [
    "There are still 177 missing values in Engine Power (PS) and 89 in Engine Power (Kw). We looked at the original dataset csv file. It turns out those car models have no data. Therefore we are going to drop those models."
   ]
  },
  {
   "cell_type": "code",
   "execution_count": 13,
   "id": "b1c83c06",
   "metadata": {},
   "outputs": [],
   "source": [
    "df = df.dropna().copy()"
   ]
  },
  {
   "cell_type": "code",
   "execution_count": 14,
   "id": "d70d12d5",
   "metadata": {},
   "outputs": [],
   "source": [
    "dummy_cols = ['Transmission','Fuel','Powertrain']\n",
    "df_encode = pd.get_dummies(df, columns=dummy_cols).copy()\n",
    "df_encode = df_encode.drop(['Manufacturer','Model','Description'], axis=1).copy()"
   ]
  },
  {
   "cell_type": "markdown",
   "id": "3babf254",
   "metadata": {},
   "source": [
    "First thing we want to do is see what data types do we have now:"
   ]
  },
  {
   "cell_type": "code",
   "execution_count": 15,
   "id": "d560a901",
   "metadata": {},
   "outputs": [
    {
     "data": {
      "text/plain": [
       "Engine Capacity           float64\n",
       "Engine Power (PS)         float64\n",
       "Engine Power (Kw)         float64\n",
       "WLTP Metric Low           float64\n",
       "WLTP Metric Medium        float64\n",
       "WLTP Metric High          float64\n",
       "WLTP Metric Extra High    float64\n",
       "WLTP Metric Combined      float64\n",
       "WLTP CO2                  float64\n",
       "Emissions CO [mg/km]      float64\n",
       "Transmission_Automatic      uint8\n",
       "Transmission_Electric       uint8\n",
       "Transmission_Manual         uint8\n",
       "Fuel_Diesel                 uint8\n",
       "Fuel_Electric               uint8\n",
       "Fuel_Hybrid                 uint8\n",
       "Fuel_Petrol                 uint8\n",
       "Powertrain_EV               uint8\n",
       "Powertrain_Hybrid           uint8\n",
       "Powertrain_ICE              uint8\n",
       "dtype: object"
      ]
     },
     "execution_count": 15,
     "metadata": {},
     "output_type": "execute_result"
    }
   ],
   "source": [
    "df_encode.dtypes"
   ]
  },
  {
   "cell_type": "markdown",
   "id": "59073e74",
   "metadata": {},
   "source": [
    "# 5 Identify the input and target variables\n",
    "Our target variable (y) is 'Emissions CO [mg/km]'\n",
    "\n",
    "We may use all or subset of the numeric features for the prediction models as input variables or X."
   ]
  },
  {
   "cell_type": "code",
   "execution_count": 19,
   "id": "3ba11f4f",
   "metadata": {},
   "outputs": [
    {
     "name": "stdout",
     "output_type": "stream",
     "text": [
      "\n",
      "X or input variables are:\n",
      "\n",
      "['Engine Capacity', 'Engine Power (PS)', 'Engine Power (Kw)', 'WLTP Metric Low', 'WLTP Metric Medium', 'WLTP Metric High', 'WLTP Metric Extra High', 'WLTP Metric Combined', 'WLTP CO2', 'Transmission_Automatic', 'Transmission_Electric', 'Transmission_Manual', 'Fuel_Diesel', 'Fuel_Electric', 'Fuel_Hybrid', 'Fuel_Petrol', 'Powertrain_EV', 'Powertrain_Hybrid', 'Powertrain_ICE']\n"
     ]
    }
   ],
   "source": [
    "X = df_encode.loc[:, df_encode.columns != 'Emissions CO [mg/km]']\n",
    "print()\n",
    "print('X or input variables are:')\n",
    "print()\n",
    "print(X.columns.tolist())\n",
    "y =  df_encode['Emissions CO [mg/km]']"
   ]
  },
  {
   "cell_type": "markdown",
   "id": "b80499b1",
   "metadata": {},
   "source": [
    "# 6 Splitting the Data"
   ]
  },
  {
   "cell_type": "code",
   "execution_count": 119,
   "id": "19b7bf29",
   "metadata": {},
   "outputs": [],
   "source": [
    "X_train, X_test, Y_train, Y_test = train_test_split(X, y, test_size=.2)"
   ]
  },
  {
   "cell_type": "markdown",
   "id": "29d8f4e6",
   "metadata": {},
   "source": [
    "# Lasso Model Section "
   ]
  },
  {
   "cell_type": "code",
   "execution_count": 120,
   "id": "5a0df498",
   "metadata": {},
   "outputs": [],
   "source": [
    "from sklearn.linear_model import Lasso, LassoCV\n",
    "from sklearn.preprocessing import scale\n",
    "from sklearn.model_selection import RepeatedKFold\n",
    "from sklearn.metrics import mean_squared_error"
   ]
  },
  {
   "cell_type": "markdown",
   "id": "c7eef896",
   "metadata": {},
   "source": [
    "First, we investigate the size of each feature weight as function of alpha."
   ]
  },
  {
   "cell_type": "code",
   "execution_count": 121,
   "id": "4c29dc2e",
   "metadata": {},
   "outputs": [],
   "source": [
    "alphas = 10**np.linspace(10,-2,100)*0.5\n",
    "sc = StandardScaler()\n",
    "Y_train  = Y_train.to_numpy()\n",
    "Y_test = Y_test.to_numpy()\n",
    "X_train_s = sc.fit_transform(X_train)\n",
    "X_test_s = sc.transform(X_test)\n",
    "Y_train_s = sc.fit_transform(Y_train.reshape(len(Y_train),1))[:,0]\n",
    "Y_test_s = sc.transform(Y_test.reshape(len(Y_test),1))[:,0]"
   ]
  },
  {
   "cell_type": "code",
   "execution_count": 151,
   "id": "ceff1e70",
   "metadata": {},
   "outputs": [
    {
     "data": {
      "image/png": "[encoded data removed]",
      "text/plain": [
       "<Figure size 432x288 with 1 Axes>"
      ]
     },
     "metadata": {
      "needs_background": "light"
     },
     "output_type": "display_data"
    }
   ],
   "source": [
    "# Initialise the Lasso mode with Normalisation of features as True\n",
    "#lasso = Lasso(normalize=True)\n",
    "lasso = Lasso()\n",
    "coefs = []\n",
    "\n",
    "for a in alphas*2:\n",
    "    lasso.set_params(alpha=a)\n",
    "    lasso.fit(X_train_s, Y_train_s)\n",
    "    coefs.append(lasso.coef_)\n",
    "\n",
    "ax = plt.gca()\n",
    "ax.plot(alphas*2, coefs)\n",
    "ax.set_xscale('log')\n",
    "ax.set_xlim(ax.get_xlim()[::-1])  # reverse axis\n",
    "plt.axis('tight')\n",
    "plt.xlabel('alpha')\n",
    "plt.ylabel('weights')\n",
    "plt.title('Lasso coefficients as a function of the regularization');"
   ]
  },
  {
   "cell_type": "markdown",
   "id": "30769615",
   "metadata": {},
   "source": [
    "Moving from the left to right in the plot, at first the coefficient estimates approximate towards zero. Then the model starts to have more predictors with high magnitudes of coefficient estimates."
   ]
  },
  {
   "cell_type": "code",
   "execution_count": 123,
   "id": "75f4f5c3",
   "metadata": {},
   "outputs": [
    {
     "name": "stdout",
     "output_type": "stream",
     "text": [
      "The number of nonzero coefficients: 15\n"
     ]
    },
    {
     "data": {
      "text/plain": [
       "Engine Capacity          -0.317497\n",
       "Engine Power (PS)         0.075032\n",
       "Engine Power (Kw)         0.063150\n",
       "WLTP Metric Low           0.144223\n",
       "WLTP Metric Medium        0.031840\n",
       "WLTP Metric High         -0.000000\n",
       "WLTP Metric Extra High   -0.046854\n",
       "WLTP Metric Combined     -0.000000\n",
       "WLTP CO2                  0.156511\n",
       "Transmission_Automatic   -0.000000\n",
       "Transmission_Electric    -0.061569\n",
       "Transmission_Manual       0.225749\n",
       "Fuel_Diesel              -0.470501\n",
       "Fuel_Electric            -0.045358\n",
       "Fuel_Hybrid               0.007146\n",
       "Fuel_Petrol               0.000000\n",
       "Powertrain_EV            -0.003812\n",
       "Powertrain_Hybrid        -0.000000\n",
       "Powertrain_ICE            0.032203\n",
       "dtype: float64"
      ]
     },
     "execution_count": 123,
     "metadata": {},
     "output_type": "execute_result"
    }
   ],
   "source": [
    "print('The number of nonzero coefficients:',np.count_nonzero(lasso.coef_) + np.count_nonzero(lasso.intercept_))\n",
    "pd.Series(lasso.coef_, index=X.columns)"
   ]
  },
  {
   "cell_type": "markdown",
   "id": "794f9bda",
   "metadata": {},
   "source": [
    "Next, we need to find the optimal value of alpha to use in our model.<br/>\n",
    "\n",
    "use LassoCV function to fit the regression model and find the optimal alpha. We also use RepeatedKFold() to evaluate the lasso model.<br/>\n",
    "\n",
    "We will define a range for alpha from 0 to 1 with increment of 0.01<br/>"
   ]
  },
  {
   "cell_type": "code",
   "execution_count": 152,
   "id": "1044b0a5",
   "metadata": {},
   "outputs": [
    {
     "name": "stdout",
     "output_type": "stream",
     "text": [
      "Best lambda that produced the lowest test MSE =  0.01\n",
      "\n",
      "Coefficients of the model are \n",
      "\n"
     ]
    },
    {
     "data": {
      "text/plain": [
       "Engine Capacity          -0.317497\n",
       "Engine Power (PS)         0.075032\n",
       "Engine Power (Kw)         0.063150\n",
       "WLTP Metric Low           0.144223\n",
       "WLTP Metric Medium        0.031840\n",
       "WLTP Metric High         -0.000000\n",
       "WLTP Metric Extra High   -0.046854\n",
       "WLTP Metric Combined     -0.000000\n",
       "WLTP CO2                  0.156511\n",
       "Transmission_Automatic   -0.000000\n",
       "Transmission_Electric    -0.061569\n",
       "Transmission_Manual       0.225749\n",
       "Fuel_Diesel              -0.470501\n",
       "Fuel_Electric            -0.045358\n",
       "Fuel_Hybrid               0.007146\n",
       "Fuel_Petrol               0.000000\n",
       "Powertrain_EV            -0.003812\n",
       "Powertrain_Hybrid        -0.000000\n",
       "Powertrain_ICE            0.032203\n",
       "dtype: float64"
      ]
     },
     "execution_count": 152,
     "metadata": {},
     "output_type": "execute_result"
    }
   ],
   "source": [
    "# RepeatedKFold for evaluation of the model\n",
    "cv = RepeatedKFold(n_splits=10, n_repeats=3, random_state=1)\n",
    "\n",
    "#define model with normalize = True so we don't have to scale the features\n",
    "lassocv = LassoCV(alphas=np.arange(0.01, 1, 0.01), cv=cv, n_jobs=-1)\n",
    "\n",
    "# Fit the model\n",
    "lassocv.fit(X_train_s, Y_train_s)\n",
    "# Best alpha\n",
    "best_alpha = lassocv.alpha_\n",
    "print('Best lambda that produced the lowest test MSE = ', best_alpha)\n",
    "print()\n",
    "print('Coefficients of the model are \\n')\n",
    "pd.Series(lassocv.coef_, index=X.columns)"
   ]
  },
  {
   "cell_type": "markdown",
   "id": "00bf7d1a",
   "metadata": {},
   "source": [
    "Now we are going to use the best lambda in our model for prediction"
   ]
  },
  {
   "cell_type": "code",
   "execution_count": 153,
   "id": "2da7b9b4",
   "metadata": {},
   "outputs": [
    {
     "name": "stdout",
     "output_type": "stream",
     "text": [
      "Train MSE =  0.6216156354144254\n",
      "Train rMSE =  0.7884260494265937\n"
     ]
    }
   ],
   "source": [
    "lasso.set_params(alpha=lassocv.alpha_)\n",
    "lasso.set_params(alpha=alpha)\n",
    "lasso.fit(X_train_s, Y_train_s)\n",
    "y_pred = lasso.predict(X_train_s)\n",
    "MSE = mean_squared_error(Y_train_s, y_pred)\n",
    "print(\"Train MSE = \" ,MSE)\n",
    "rMSE = np.sqrt(MSE)\n",
    "\n",
    "print(\"Train rMSE = \" ,rMSE)"
   ]
  },
  {
   "cell_type": "code",
   "execution_count": 154,
   "id": "289a2316",
   "metadata": {},
   "outputs": [
    {
     "name": "stdout",
     "output_type": "stream",
     "text": [
      "Test MSE =  0.6212261532045529\n",
      "Test rMSE =  0.7881790108881058\n"
     ]
    }
   ],
   "source": [
    "y_pred_t = lasso.predict(X_test_s)\n",
    "MSE = mean_squared_error(Y_test_s, y_pred_t)\n",
    "print(\"Test MSE = \" ,MSE)\n",
    "rMSE = np.sqrt(MSE)\n",
    "\n",
    "print(\"Test rMSE = \" ,rMSE)"
   ]
  },
  {
   "cell_type": "code",
   "execution_count": 141,
   "id": "ed9f5e3d",
   "metadata": {},
   "outputs": [
    {
     "data": {
      "text/plain": [
       "(0.3543272693630334, 0.3708443159323527)"
      ]
     },
     "execution_count": 141,
     "metadata": {},
     "output_type": "execute_result"
    }
   ],
   "source": [
    "lasso.fit(X_train_s, Y_train_s)\n",
    "lasso.score(X_test_s, Y_test_s), lasso.score(X_train_s, Y_train_s)"
   ]
  }
 ],
 "metadata": {
  "kernelspec": {
   "display_name": "Python 3",
   "language": "python",
   "name": "python3"
  },
  "language_info": {
   "codemirror_mode": {
    "name": "ipython",
    "version": 3
   },
   "file_extension": ".py",
   "mimetype": "text/x-python",
   "name": "python",
   "nbconvert_exporter": "python",
   "pygments_lexer": "ipython3",
   "version": "3.8.8"
  }
 },
 "nbformat": 4,
 "nbformat_minor": 5
}
